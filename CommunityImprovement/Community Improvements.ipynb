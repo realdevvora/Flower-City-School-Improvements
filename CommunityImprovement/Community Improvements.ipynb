{
 "cells": [
  {
   "cell_type": "code",
   "execution_count": 40,
   "id": "1b8f0920",
   "metadata": {},
   "outputs": [],
   "source": [
    "from outscraper import ApiClient\n",
    "import numpy as np\n",
    "import json\n",
    "import pandas as pd\n",
    "import plotly.express as px"
   ]
  },
  {
   "cell_type": "code",
   "execution_count": 18,
   "id": "13765549",
   "metadata": {},
   "outputs": [],
   "source": [
    "# THIS CODE WAS USED TO SCRAPE THE GOOGLE REVIEWS OF SCHOOLS\n",
    "\n",
    "client = ApiClient(api_key='SECRET_KEY')\n",
    "\n",
    "\n",
    "sd = open('schools.json')\n",
    "data = json.load(sd)\n",
    "\n",
    "context = {'school': [], 'score': [], 'data': []}\n",
    "\n",
    "for attributes in data['features']:\n",
    "\n",
    "    school_name = attributes['attributes']['SCHOOL_NAME']\n",
    "    longitude = attributes['geometry']['x']\n",
    "    latitude = attributes['geometry']['y']\n",
    "    results = client.google_maps_reviews(f'{school_name} brampton', reviews_limit=20, limit=1, language='en')\n",
    "\n",
    "    #creating the context for saving data onto excel spreadsheet\n",
    "\n",
    "    # adding the info for each review onto the excel spreadsheet\n",
    "    reviews = results[0]['reviews_data']\n",
    "    \n",
    "    for review in reviews:\n",
    "        context['longitude'] = longitude\n",
    "        context['latitude'] = latitude\n",
    "        context['school'].append(school_name)\n",
    "        context['score'].append(review['review_rating'])\n",
    "        context['data'].append(review['review_text'])\n",
    "        \n",
    "    \n",
    "data = pd.DataFrame(context)\n",
    "data.to_excel(\"review_information.xlsx\", index=False)"
   ]
  },
  {
   "cell_type": "code",
   "execution_count": 50,
   "id": "4a2b59d8",
   "metadata": {},
   "outputs": [
    {
     "name": "stdout",
     "output_type": "stream",
     "text": [
      "[2]\n",
      "[2, 2]\n",
      "[2, 2, 1]\n",
      "[2, 2, 1, 3]\n",
      "[2, 2, 1, 3, 2]\n",
      "[2, 2, 1, 3, 2, 3]\n",
      "[2, 2, 1, 3, 2, 3, 3]\n",
      "[2, 2, 1, 3, 2, 3, 3, 3]\n",
      "[2, 2, 1, 3, 2, 3, 3, 3, 3]\n"
     ]
    },
    {
     "ename": "KeyboardInterrupt",
     "evalue": "",
     "output_type": "error",
     "traceback": [
      "\u001b[0;31m---------------------------------------------------------------------------\u001b[0m",
      "\u001b[0;31mKeyboardInterrupt\u001b[0m                         Traceback (most recent call last)",
      "Input \u001b[0;32mIn [50]\u001b[0m, in \u001b[0;36m<cell line: 13>\u001b[0;34m()\u001b[0m\n\u001b[1;32m     20\u001b[0m reviewtext \u001b[38;5;241m=\u001b[39m reviewtext\u001b[38;5;241m.\u001b[39mreplace(\u001b[38;5;124m\"\u001b[39m\u001b[38;5;124m \u001b[39m\u001b[38;5;124m\"\u001b[39m, \u001b[38;5;124m\"\u001b[39m\u001b[38;5;124m%\u001b[39m\u001b[38;5;124m20\u001b[39m\u001b[38;5;124m\"\u001b[39m)\n\u001b[1;32m     22\u001b[0m url \u001b[38;5;241m=\u001b[39m \u001b[38;5;124mf\u001b[39m\u001b[38;5;124m\"\u001b[39m\u001b[38;5;124mhttps://nocodefunctions.com/api/sentimentForAText?text-lang=en&text=\u001b[39m\u001b[38;5;132;01m{\u001b[39;00mreviewtext\u001b[38;5;132;01m}\u001b[39;00m\u001b[38;5;124m&explanation=off&output-format=json&explanation-lang=en-US\u001b[39m\u001b[38;5;124m\"\u001b[39m\n\u001b[0;32m---> 23\u001b[0m URLresponse \u001b[38;5;241m=\u001b[39m \u001b[43murllib\u001b[49m\u001b[38;5;241;43m.\u001b[39;49m\u001b[43mrequest\u001b[49m\u001b[38;5;241;43m.\u001b[39;49m\u001b[43murlopen\u001b[49m\u001b[43m(\u001b[49m\u001b[43murl\u001b[49m\u001b[43m)\u001b[49m\n\u001b[1;32m     24\u001b[0m feelingdata \u001b[38;5;241m=\u001b[39m json\u001b[38;5;241m.\u001b[39mloads(URLresponse\u001b[38;5;241m.\u001b[39mread())\n\u001b[1;32m     26\u001b[0m \u001b[38;5;28;01mif\u001b[39;00m (feelingdata[\u001b[38;5;124m'\u001b[39m\u001b[38;5;124msentiment\u001b[39m\u001b[38;5;124m'\u001b[39m] \u001b[38;5;241m==\u001b[39m \u001b[38;5;124m\"\u001b[39m\u001b[38;5;124mpositive feeling\u001b[39m\u001b[38;5;124m\"\u001b[39m):\n",
      "File \u001b[0;32m~/opt/anaconda3/lib/python3.9/urllib/request.py:214\u001b[0m, in \u001b[0;36murlopen\u001b[0;34m(url, data, timeout, cafile, capath, cadefault, context)\u001b[0m\n\u001b[1;32m    212\u001b[0m \u001b[38;5;28;01melse\u001b[39;00m:\n\u001b[1;32m    213\u001b[0m     opener \u001b[38;5;241m=\u001b[39m _opener\n\u001b[0;32m--> 214\u001b[0m \u001b[38;5;28;01mreturn\u001b[39;00m \u001b[43mopener\u001b[49m\u001b[38;5;241;43m.\u001b[39;49m\u001b[43mopen\u001b[49m\u001b[43m(\u001b[49m\u001b[43murl\u001b[49m\u001b[43m,\u001b[49m\u001b[43m \u001b[49m\u001b[43mdata\u001b[49m\u001b[43m,\u001b[49m\u001b[43m \u001b[49m\u001b[43mtimeout\u001b[49m\u001b[43m)\u001b[49m\n",
      "File \u001b[0;32m~/opt/anaconda3/lib/python3.9/urllib/request.py:517\u001b[0m, in \u001b[0;36mOpenerDirector.open\u001b[0;34m(self, fullurl, data, timeout)\u001b[0m\n\u001b[1;32m    514\u001b[0m     req \u001b[38;5;241m=\u001b[39m meth(req)\n\u001b[1;32m    516\u001b[0m sys\u001b[38;5;241m.\u001b[39maudit(\u001b[38;5;124m'\u001b[39m\u001b[38;5;124murllib.Request\u001b[39m\u001b[38;5;124m'\u001b[39m, req\u001b[38;5;241m.\u001b[39mfull_url, req\u001b[38;5;241m.\u001b[39mdata, req\u001b[38;5;241m.\u001b[39mheaders, req\u001b[38;5;241m.\u001b[39mget_method())\n\u001b[0;32m--> 517\u001b[0m response \u001b[38;5;241m=\u001b[39m \u001b[38;5;28;43mself\u001b[39;49m\u001b[38;5;241;43m.\u001b[39;49m\u001b[43m_open\u001b[49m\u001b[43m(\u001b[49m\u001b[43mreq\u001b[49m\u001b[43m,\u001b[49m\u001b[43m \u001b[49m\u001b[43mdata\u001b[49m\u001b[43m)\u001b[49m\n\u001b[1;32m    519\u001b[0m \u001b[38;5;66;03m# post-process response\u001b[39;00m\n\u001b[1;32m    520\u001b[0m meth_name \u001b[38;5;241m=\u001b[39m protocol\u001b[38;5;241m+\u001b[39m\u001b[38;5;124m\"\u001b[39m\u001b[38;5;124m_response\u001b[39m\u001b[38;5;124m\"\u001b[39m\n",
      "File \u001b[0;32m~/opt/anaconda3/lib/python3.9/urllib/request.py:534\u001b[0m, in \u001b[0;36mOpenerDirector._open\u001b[0;34m(self, req, data)\u001b[0m\n\u001b[1;32m    531\u001b[0m     \u001b[38;5;28;01mreturn\u001b[39;00m result\n\u001b[1;32m    533\u001b[0m protocol \u001b[38;5;241m=\u001b[39m req\u001b[38;5;241m.\u001b[39mtype\n\u001b[0;32m--> 534\u001b[0m result \u001b[38;5;241m=\u001b[39m \u001b[38;5;28;43mself\u001b[39;49m\u001b[38;5;241;43m.\u001b[39;49m\u001b[43m_call_chain\u001b[49m\u001b[43m(\u001b[49m\u001b[38;5;28;43mself\u001b[39;49m\u001b[38;5;241;43m.\u001b[39;49m\u001b[43mhandle_open\u001b[49m\u001b[43m,\u001b[49m\u001b[43m \u001b[49m\u001b[43mprotocol\u001b[49m\u001b[43m,\u001b[49m\u001b[43m \u001b[49m\u001b[43mprotocol\u001b[49m\u001b[43m \u001b[49m\u001b[38;5;241;43m+\u001b[39;49m\n\u001b[1;32m    535\u001b[0m \u001b[43m                          \u001b[49m\u001b[38;5;124;43m'\u001b[39;49m\u001b[38;5;124;43m_open\u001b[39;49m\u001b[38;5;124;43m'\u001b[39;49m\u001b[43m,\u001b[49m\u001b[43m \u001b[49m\u001b[43mreq\u001b[49m\u001b[43m)\u001b[49m\n\u001b[1;32m    536\u001b[0m \u001b[38;5;28;01mif\u001b[39;00m result:\n\u001b[1;32m    537\u001b[0m     \u001b[38;5;28;01mreturn\u001b[39;00m result\n",
      "File \u001b[0;32m~/opt/anaconda3/lib/python3.9/urllib/request.py:494\u001b[0m, in \u001b[0;36mOpenerDirector._call_chain\u001b[0;34m(self, chain, kind, meth_name, *args)\u001b[0m\n\u001b[1;32m    492\u001b[0m \u001b[38;5;28;01mfor\u001b[39;00m handler \u001b[38;5;129;01min\u001b[39;00m handlers:\n\u001b[1;32m    493\u001b[0m     func \u001b[38;5;241m=\u001b[39m \u001b[38;5;28mgetattr\u001b[39m(handler, meth_name)\n\u001b[0;32m--> 494\u001b[0m     result \u001b[38;5;241m=\u001b[39m \u001b[43mfunc\u001b[49m\u001b[43m(\u001b[49m\u001b[38;5;241;43m*\u001b[39;49m\u001b[43margs\u001b[49m\u001b[43m)\u001b[49m\n\u001b[1;32m    495\u001b[0m     \u001b[38;5;28;01mif\u001b[39;00m result \u001b[38;5;129;01mis\u001b[39;00m \u001b[38;5;129;01mnot\u001b[39;00m \u001b[38;5;28;01mNone\u001b[39;00m:\n\u001b[1;32m    496\u001b[0m         \u001b[38;5;28;01mreturn\u001b[39;00m result\n",
      "File \u001b[0;32m~/opt/anaconda3/lib/python3.9/urllib/request.py:1389\u001b[0m, in \u001b[0;36mHTTPSHandler.https_open\u001b[0;34m(self, req)\u001b[0m\n\u001b[1;32m   1388\u001b[0m \u001b[38;5;28;01mdef\u001b[39;00m \u001b[38;5;21mhttps_open\u001b[39m(\u001b[38;5;28mself\u001b[39m, req):\n\u001b[0;32m-> 1389\u001b[0m     \u001b[38;5;28;01mreturn\u001b[39;00m \u001b[38;5;28;43mself\u001b[39;49m\u001b[38;5;241;43m.\u001b[39;49m\u001b[43mdo_open\u001b[49m\u001b[43m(\u001b[49m\u001b[43mhttp\u001b[49m\u001b[38;5;241;43m.\u001b[39;49m\u001b[43mclient\u001b[49m\u001b[38;5;241;43m.\u001b[39;49m\u001b[43mHTTPSConnection\u001b[49m\u001b[43m,\u001b[49m\u001b[43m \u001b[49m\u001b[43mreq\u001b[49m\u001b[43m,\u001b[49m\n\u001b[1;32m   1390\u001b[0m \u001b[43m        \u001b[49m\u001b[43mcontext\u001b[49m\u001b[38;5;241;43m=\u001b[39;49m\u001b[38;5;28;43mself\u001b[39;49m\u001b[38;5;241;43m.\u001b[39;49m\u001b[43m_context\u001b[49m\u001b[43m,\u001b[49m\u001b[43m \u001b[49m\u001b[43mcheck_hostname\u001b[49m\u001b[38;5;241;43m=\u001b[39;49m\u001b[38;5;28;43mself\u001b[39;49m\u001b[38;5;241;43m.\u001b[39;49m\u001b[43m_check_hostname\u001b[49m\u001b[43m)\u001b[49m\n",
      "File \u001b[0;32m~/opt/anaconda3/lib/python3.9/urllib/request.py:1350\u001b[0m, in \u001b[0;36mAbstractHTTPHandler.do_open\u001b[0;34m(self, http_class, req, **http_conn_args)\u001b[0m\n\u001b[1;32m   1348\u001b[0m     \u001b[38;5;28;01mexcept\u001b[39;00m \u001b[38;5;167;01mOSError\u001b[39;00m \u001b[38;5;28;01mas\u001b[39;00m err: \u001b[38;5;66;03m# timeout error\u001b[39;00m\n\u001b[1;32m   1349\u001b[0m         \u001b[38;5;28;01mraise\u001b[39;00m URLError(err)\n\u001b[0;32m-> 1350\u001b[0m     r \u001b[38;5;241m=\u001b[39m \u001b[43mh\u001b[49m\u001b[38;5;241;43m.\u001b[39;49m\u001b[43mgetresponse\u001b[49m\u001b[43m(\u001b[49m\u001b[43m)\u001b[49m\n\u001b[1;32m   1351\u001b[0m \u001b[38;5;28;01mexcept\u001b[39;00m:\n\u001b[1;32m   1352\u001b[0m     h\u001b[38;5;241m.\u001b[39mclose()\n",
      "File \u001b[0;32m~/opt/anaconda3/lib/python3.9/http/client.py:1377\u001b[0m, in \u001b[0;36mHTTPConnection.getresponse\u001b[0;34m(self)\u001b[0m\n\u001b[1;32m   1375\u001b[0m \u001b[38;5;28;01mtry\u001b[39;00m:\n\u001b[1;32m   1376\u001b[0m     \u001b[38;5;28;01mtry\u001b[39;00m:\n\u001b[0;32m-> 1377\u001b[0m         \u001b[43mresponse\u001b[49m\u001b[38;5;241;43m.\u001b[39;49m\u001b[43mbegin\u001b[49m\u001b[43m(\u001b[49m\u001b[43m)\u001b[49m\n\u001b[1;32m   1378\u001b[0m     \u001b[38;5;28;01mexcept\u001b[39;00m \u001b[38;5;167;01mConnectionError\u001b[39;00m:\n\u001b[1;32m   1379\u001b[0m         \u001b[38;5;28mself\u001b[39m\u001b[38;5;241m.\u001b[39mclose()\n",
      "File \u001b[0;32m~/opt/anaconda3/lib/python3.9/http/client.py:320\u001b[0m, in \u001b[0;36mHTTPResponse.begin\u001b[0;34m(self)\u001b[0m\n\u001b[1;32m    318\u001b[0m \u001b[38;5;66;03m# read until we get a non-100 response\u001b[39;00m\n\u001b[1;32m    319\u001b[0m \u001b[38;5;28;01mwhile\u001b[39;00m \u001b[38;5;28;01mTrue\u001b[39;00m:\n\u001b[0;32m--> 320\u001b[0m     version, status, reason \u001b[38;5;241m=\u001b[39m \u001b[38;5;28;43mself\u001b[39;49m\u001b[38;5;241;43m.\u001b[39;49m\u001b[43m_read_status\u001b[49m\u001b[43m(\u001b[49m\u001b[43m)\u001b[49m\n\u001b[1;32m    321\u001b[0m     \u001b[38;5;28;01mif\u001b[39;00m status \u001b[38;5;241m!=\u001b[39m CONTINUE:\n\u001b[1;32m    322\u001b[0m         \u001b[38;5;28;01mbreak\u001b[39;00m\n",
      "File \u001b[0;32m~/opt/anaconda3/lib/python3.9/http/client.py:281\u001b[0m, in \u001b[0;36mHTTPResponse._read_status\u001b[0;34m(self)\u001b[0m\n\u001b[1;32m    280\u001b[0m \u001b[38;5;28;01mdef\u001b[39;00m \u001b[38;5;21m_read_status\u001b[39m(\u001b[38;5;28mself\u001b[39m):\n\u001b[0;32m--> 281\u001b[0m     line \u001b[38;5;241m=\u001b[39m \u001b[38;5;28mstr\u001b[39m(\u001b[38;5;28;43mself\u001b[39;49m\u001b[38;5;241;43m.\u001b[39;49m\u001b[43mfp\u001b[49m\u001b[38;5;241;43m.\u001b[39;49m\u001b[43mreadline\u001b[49m\u001b[43m(\u001b[49m\u001b[43m_MAXLINE\u001b[49m\u001b[43m \u001b[49m\u001b[38;5;241;43m+\u001b[39;49m\u001b[43m \u001b[49m\u001b[38;5;241;43m1\u001b[39;49m\u001b[43m)\u001b[49m, \u001b[38;5;124m\"\u001b[39m\u001b[38;5;124miso-8859-1\u001b[39m\u001b[38;5;124m\"\u001b[39m)\n\u001b[1;32m    282\u001b[0m     \u001b[38;5;28;01mif\u001b[39;00m \u001b[38;5;28mlen\u001b[39m(line) \u001b[38;5;241m>\u001b[39m _MAXLINE:\n\u001b[1;32m    283\u001b[0m         \u001b[38;5;28;01mraise\u001b[39;00m LineTooLong(\u001b[38;5;124m\"\u001b[39m\u001b[38;5;124mstatus line\u001b[39m\u001b[38;5;124m\"\u001b[39m)\n",
      "File \u001b[0;32m~/opt/anaconda3/lib/python3.9/socket.py:704\u001b[0m, in \u001b[0;36mSocketIO.readinto\u001b[0;34m(self, b)\u001b[0m\n\u001b[1;32m    702\u001b[0m \u001b[38;5;28;01mwhile\u001b[39;00m \u001b[38;5;28;01mTrue\u001b[39;00m:\n\u001b[1;32m    703\u001b[0m     \u001b[38;5;28;01mtry\u001b[39;00m:\n\u001b[0;32m--> 704\u001b[0m         \u001b[38;5;28;01mreturn\u001b[39;00m \u001b[38;5;28;43mself\u001b[39;49m\u001b[38;5;241;43m.\u001b[39;49m\u001b[43m_sock\u001b[49m\u001b[38;5;241;43m.\u001b[39;49m\u001b[43mrecv_into\u001b[49m\u001b[43m(\u001b[49m\u001b[43mb\u001b[49m\u001b[43m)\u001b[49m\n\u001b[1;32m    705\u001b[0m     \u001b[38;5;28;01mexcept\u001b[39;00m timeout:\n\u001b[1;32m    706\u001b[0m         \u001b[38;5;28mself\u001b[39m\u001b[38;5;241m.\u001b[39m_timeout_occurred \u001b[38;5;241m=\u001b[39m \u001b[38;5;28;01mTrue\u001b[39;00m\n",
      "File \u001b[0;32m~/opt/anaconda3/lib/python3.9/ssl.py:1241\u001b[0m, in \u001b[0;36mSSLSocket.recv_into\u001b[0;34m(self, buffer, nbytes, flags)\u001b[0m\n\u001b[1;32m   1237\u001b[0m     \u001b[38;5;28;01mif\u001b[39;00m flags \u001b[38;5;241m!=\u001b[39m \u001b[38;5;241m0\u001b[39m:\n\u001b[1;32m   1238\u001b[0m         \u001b[38;5;28;01mraise\u001b[39;00m \u001b[38;5;167;01mValueError\u001b[39;00m(\n\u001b[1;32m   1239\u001b[0m           \u001b[38;5;124m\"\u001b[39m\u001b[38;5;124mnon-zero flags not allowed in calls to recv_into() on \u001b[39m\u001b[38;5;132;01m%s\u001b[39;00m\u001b[38;5;124m\"\u001b[39m \u001b[38;5;241m%\u001b[39m\n\u001b[1;32m   1240\u001b[0m           \u001b[38;5;28mself\u001b[39m\u001b[38;5;241m.\u001b[39m\u001b[38;5;18m__class__\u001b[39m)\n\u001b[0;32m-> 1241\u001b[0m     \u001b[38;5;28;01mreturn\u001b[39;00m \u001b[38;5;28;43mself\u001b[39;49m\u001b[38;5;241;43m.\u001b[39;49m\u001b[43mread\u001b[49m\u001b[43m(\u001b[49m\u001b[43mnbytes\u001b[49m\u001b[43m,\u001b[49m\u001b[43m \u001b[49m\u001b[43mbuffer\u001b[49m\u001b[43m)\u001b[49m\n\u001b[1;32m   1242\u001b[0m \u001b[38;5;28;01melse\u001b[39;00m:\n\u001b[1;32m   1243\u001b[0m     \u001b[38;5;28;01mreturn\u001b[39;00m \u001b[38;5;28msuper\u001b[39m()\u001b[38;5;241m.\u001b[39mrecv_into(buffer, nbytes, flags)\n",
      "File \u001b[0;32m~/opt/anaconda3/lib/python3.9/ssl.py:1099\u001b[0m, in \u001b[0;36mSSLSocket.read\u001b[0;34m(self, len, buffer)\u001b[0m\n\u001b[1;32m   1097\u001b[0m \u001b[38;5;28;01mtry\u001b[39;00m:\n\u001b[1;32m   1098\u001b[0m     \u001b[38;5;28;01mif\u001b[39;00m buffer \u001b[38;5;129;01mis\u001b[39;00m \u001b[38;5;129;01mnot\u001b[39;00m \u001b[38;5;28;01mNone\u001b[39;00m:\n\u001b[0;32m-> 1099\u001b[0m         \u001b[38;5;28;01mreturn\u001b[39;00m \u001b[38;5;28;43mself\u001b[39;49m\u001b[38;5;241;43m.\u001b[39;49m\u001b[43m_sslobj\u001b[49m\u001b[38;5;241;43m.\u001b[39;49m\u001b[43mread\u001b[49m\u001b[43m(\u001b[49m\u001b[38;5;28;43mlen\u001b[39;49m\u001b[43m,\u001b[49m\u001b[43m \u001b[49m\u001b[43mbuffer\u001b[49m\u001b[43m)\u001b[49m\n\u001b[1;32m   1100\u001b[0m     \u001b[38;5;28;01melse\u001b[39;00m:\n\u001b[1;32m   1101\u001b[0m         \u001b[38;5;28;01mreturn\u001b[39;00m \u001b[38;5;28mself\u001b[39m\u001b[38;5;241m.\u001b[39m_sslobj\u001b[38;5;241m.\u001b[39mread(\u001b[38;5;28mlen\u001b[39m)\n",
      "\u001b[0;31mKeyboardInterrupt\u001b[0m: "
     ]
    }
   ],
   "source": [
    "# THIS WAS USED TO REMOVE CERTAIN CHARACTERS FROM TEXT (THAT PYTHON COULDNT READ)\n",
    "\n",
    "import urllib\n",
    "import re\n",
    "\n",
    "data = pd.read_excel(\"review_information.xlsx\")\n",
    "data.dropna(inplace=True)\n",
    "emotions = []\n",
    "\n",
    "for i in data['data']:\n",
    "    \n",
    "    \n",
    "    reviewtext = re.sub(\"[^A-Z ]\", '', i ,0,re.IGNORECASE)\n",
    "    reviewtext = reviewtext.encode(\"ascii\", \"ignore\")\n",
    "    reviewtext = reviewtext.decode()\n",
    "    reviewtext = reviewtext.replace(\" \", \"%20\")\n",
    "    \n",
    "    url = f\"https://nocodefunctions.com/api/sentimentForAText?text-lang=en&text={reviewtext}&explanation=off&output-format=json&explanation-lang=en-US\"\n",
    "    URLresponse = urllib.request.urlopen(url)\n",
    "    feelingdata = json.loads(URLresponse.read())\n",
    "    \n",
    "    if (feelingdata['sentiment'] == \"positive feeling\"):\n",
    "        emotions.append(3)\n",
    "    elif (feelingdata['sentiment'] == \"neutral feeling\"):\n",
    "        emotions.append(2)\n",
    "    else:\n",
    "        emotions.append(1)\n",
    "\n",
    "#     print(emotions)"
   ]
  },
  {
   "cell_type": "code",
   "execution_count": 51,
   "id": "7fa666c0",
   "metadata": {},
   "outputs": [],
   "source": [
    "import pandas as pd\n",
    "import urllib\n",
    "import re\n",
    "\n",
    "data = pd.read_excel(\"review_information.xlsx\")\n",
    "data.dropna(inplace=True)\n",
    "emotions = []\n",
    "\n",
    "for i in data['data']:\n",
    "    \n",
    "    reviewtext = re.sub(\"[^A-Z ]\", '', i ,0,re.IGNORECASE)\n",
    "    reviewtext = reviewtext.encode(\"ascii\", \"ignore\")\n",
    "    reviewtext = reviewtext.decode()\n",
    "    reviewtext = reviewtext.replace(\" \", \"%20\")\n",
    "    \n",
    "    url = f\"https://nocodefunctions.com/api/sentimentForAText?text-lang=en&text={reviewtext}&explanation=off&output-format=json&explanation-lang=en-US\"\n",
    "    URLresponse = urllib.request.urlopen(url)\n",
    "    feelingdata = json.loads(URLresponse.read())\n",
    "    \n",
    "    if (feelingdata['sentiment'] == \"positive feeling\"):\n",
    "        emotions.append(3)\n",
    "    elif (feelingdata['sentiment'] == \"neutral feeling\"):\n",
    "        emotions.append(2)\n",
    "    else:\n",
    "        emotions.append(1)\n",
    "\n",
    "data = pd.read_excel(\"review_information.xlsx\")\n",
    "data.dropna(inplace=True)\n",
    "data['opinion'] = emotions\n",
    "\n",
    "data.to_excel(\"review_information.xlsx\", index=False)"
   ]
  },
  {
   "cell_type": "code",
   "execution_count": 97,
   "id": "2f2e48df",
   "metadata": {},
   "outputs": [],
   "source": [
    "data = pd.read_excel(\"review_information.xlsx\")\n",
    "\n",
    "for i in range(data.shape[0]):\n",
    "    if data.loc[i, 'score'] > 3 and data.loc[i, 'opinion'] == 1:\n",
    "        data.drop(index=i, inplace=True)\n",
    "    elif (data.loc[i, 'score'] < 2 or data.loc[i, 'score'] > 4) and (data.loc[i, 'opinion'] == 2):\n",
    "        data.drop(index=i, inplace=True)\n",
    "    elif data.loc[i, 'score'] < 3 and data.loc[i, 'opinion'] == 3:\n",
    "        data.drop(index=i, inplace=True)\n",
    "        \n",
    "        \n",
    "data.to_excel(\"review_information.xlsx\", index=False)"
   ]
  },
  {
   "cell_type": "code",
   "execution_count": 31,
   "id": "f6d89adb",
   "metadata": {},
   "outputs": [],
   "source": [
    "# used to find the counter\n",
    "\n",
    "counter = 1\n",
    "tally = data.loc[0, 'score']\n",
    "name = data.loc[0, 'school']\n",
    "\n",
    "avg_school_ratings = {}\n",
    "\n",
    "for i in range(1, data.shape[0]):\n",
    "    \n",
    "    # if the selected school name is equal to the one being iterated through\n",
    "    if name == data.loc[i, 'school']:\n",
    "        tally += data.loc[i, 'score'] # add to the total sum of the school location\n",
    "        counter += 1 # increment coutner\n",
    "    \n",
    "    # if collecting the tallies for the school is complete\n",
    "    else:\n",
    "        avg_score = tally / counter # find the average\n",
    "        avg_school_ratings[name] = avg_score # saving the average ratings for the old school name\n",
    "        name = data.loc[i, 'school'] # replacing the school name\n",
    "        tally = 0 # resetting tally\n",
    "        counter = 1 # resetting counter\n",
    "\n",
    "avg_score = tally / counter # find the average\n",
    "avg_school_ratings[name] = avg_score \n",
    "    "
   ]
  },
  {
   "cell_type": "code",
   "execution_count": 32,
   "id": "2b10cec3",
   "metadata": {},
   "outputs": [
    {
     "data": {
      "text/plain": [
       "{'BERYL FORD P.S.': 4.142857142857143,\n",
       " 'XYNA INTERNATIONAL HIGH SCHOOL': 4.235294117647059,\n",
       " 'LOTE TREE FOUNDATION': 0.5,\n",
       " 'LEARNING GENIUS ACADEMY INC': 3.75,\n",
       " 'KHALSA COMMUNITY SCHOOL': 3.066666666666667,\n",
       " 'OUR LADY OF LOURDES CATHOLIC E.S.': 2.0,\n",
       " 'ALGOMA UNIVERSITY': 2.6,\n",
       " 'MAKKI ISLAMIC LEARNING CENTRE': 3.857142857142857,\n",
       " 'ST. PATRICK SEPARATE E.S.': 3.25,\n",
       " 'HOLY NAME OF MARY CATHOLIC S.S.': 1.8,\n",
       " 'LARKSPUR P.S.': 3.6,\n",
       " 'ST. FRANCIS XAVIER E.S.': 2.5,\n",
       " 'ST. URSULA E.S.': 3.8,\n",
       " \"ST. MARGUERITE D'YOUVILLE S.S.\": 3.5555555555555554,\n",
       " 'PARKHOLME SCHOOL': 2.75,\n",
       " \"FLETCHER'S MEADOW S.S.\": 2.6,\n",
       " 'ROBERT H. LAGERQUIST SR.P.S.': 2.8,\n",
       " 'ESKER LAKE P.S.': 3.5714285714285716,\n",
       " 'FOLKSTONE P.S.': 3.375,\n",
       " 'ST. AGNES E.S.': 0.0,\n",
       " 'ST. KEVIN SEPARATE E.S.': 3.0,\n",
       " 'ST. JOHN BOSCO E.S.': 3.0,\n",
       " 'HILLDALE P.S.': 3.0,\n",
       " 'DORSET DRIVE P.S.': 3.8461538461538463,\n",
       " 'SPRINGDALE P.S.': 3.7,\n",
       " 'NORTH PARK S.S.': 3.6363636363636362,\n",
       " 'SHAW P.S.': 1.5,\n",
       " 'CARDINAL AMBROZIC CATHOLIC S.S.': 3.125,\n",
       " 'ST. CECILIA E.S.': 3.5,\n",
       " 'APPLEWOOD MONTESSORI ACADEMY & DAYCARE': 4.571428571428571,\n",
       " 'JOHN KNOX CHRISTIAN SCHOOL': 4.647058823529412,\n",
       " 'ST. BRIGID E.S.': 2.6666666666666665,\n",
       " 'RED WILLOW P.S.': 3.769230769230769,\n",
       " 'ST. JOSEPH BRAMPTON E.S.': 3.75,\n",
       " 'TURNER FENTON S.S.': 3.933333333333333,\n",
       " 'SHERIDAN COLLEGE DAVIS CAMPUS': 2.8823529411764706,\n",
       " 'ADULT EDUCATION CENTRE BRAMPTON CAMPUS': 4.5,\n",
       " 'ROYAL ORCHARD M.S.': 3.0588235294117645,\n",
       " 'ECOLE SECONDAIRE JEUNES SANS FRONTIERES': 2.5,\n",
       " 'WALI UL ASR SCHOOL - GTA WEST CAMPUS': 2.75,\n",
       " 'CARDINAL LEGER S.S.': 3.4285714285714284,\n",
       " 'WORTHINGTON P.S.': 3.8823529411764706,\n",
       " 'EASTBOURNE DRIVE P.S.': 3.2,\n",
       " 'NORTHWOOD P.S.': 3.1,\n",
       " 'CARDINAL NEWMAN CATHOLIC E.S.': 3.3333333333333335,\n",
       " 'ST. MARY E.S.': 4.647058823529412,\n",
       " 'MOUNT ROYAL P.S.': 3.142857142857143,\n",
       " 'QUEEN STREET P.S.': 2.8181818181818183,\n",
       " 'HICKORY WOOD P.S.': 3.6666666666666665,\n",
       " 'SIR WILLIAM GAGE M.S.': 2.727272727272727,\n",
       " 'FATHER C.W. SULLIVAN E.S.': 2.5,\n",
       " 'GUARDIAN ANGELS E.S.': 2.909090909090909,\n",
       " 'EDENBROOK HILL P.S.': 4.5,\n",
       " 'ST. MONICA E.S.': 2.0,\n",
       " 'ALOMA CRESCENT P.S.': 3.5714285714285716,\n",
       " 'PAULINE VANIER CATHOLIC E.S.': 3.3333333333333335,\n",
       " 'ST. MARGUERITE BOURGEOYS SEPARATE E.S.': 2.5,\n",
       " 'FATHER FRANCIS MCSPIRITT CATHOLIC E.S.': 2.2857142857142856,\n",
       " 'CARBERRY P.S.': 2.875,\n",
       " 'BIRCHBANK P.S.': 2.5,\n",
       " 'FALLINGDALE P.S.': 3.7142857142857144,\n",
       " 'BRAMALEA S.S.': 2.75,\n",
       " 'SOMERSET DRIVE P.S.': 4.0,\n",
       " 'EARNSCLIFFE SR.P.S.': 3.6153846153846154,\n",
       " 'COPELAND P.S.': 3.875,\n",
       " 'WILLIAM G. DAVIS SR.P.S.': 2.6666666666666665,\n",
       " 'MADOC DRIVE P.S.': 2.0,\n",
       " 'JEFFERSON P.S.': 2.875,\n",
       " 'LOUGHEED M.S.': 3.2142857142857144,\n",
       " 'BLESSSED MICHAEL J. MCGIVNEY CATHOLIC E.S.': 3.5,\n",
       " 'DOON SCHOOL': 4.647058823529412,\n",
       " 'NOON ACADEMY': 4.647058823529412,\n",
       " 'LESTER B. PEARSON CATHOLIC E.S.': 3.4,\n",
       " 'ST. JEAN BREBEUF E.S.': 2.3333333333333335,\n",
       " 'GREENBRIAR M.S.': 4.083333333333333,\n",
       " 'GRENOBLE P.S.': 3.2,\n",
       " 'CHURCHVILLE P.S.': 3.8125,\n",
       " 'MONTESSORI LEADERS SCHOOL': 4.2,\n",
       " 'KMSCHOOL': 4.181818181818182,\n",
       " 'PREMIUM INSTITUTE OF EXCELLENCE': 4.705882352941177,\n",
       " 'SONGBIRDS MONTESSORI SCHOOL': 4.4,\n",
       " 'AGNES TAYLOR P.S.': 3.1,\n",
       " 'MCCLURE P.S.': 0.8888888888888888,\n",
       " 'COUNTRYSIDE VILLAGE P.S.': 2.25,\n",
       " 'DOLSON P.S.': 3.125,\n",
       " 'AL-AMEEN ELEMENTARY SCHOOL': 4.055555555555555,\n",
       " 'CAREER QUEST- BRAMPTON': 2.5,\n",
       " 'GOBIND SARVAR BRAMPTON': 4.285714285714286,\n",
       " 'GREEN APPLE ALTERNATIVE SCHOOL': 4.176470588235294,\n",
       " 'KNOX BRIDGE SCHOOL': 4.444444444444445,\n",
       " 'NORTHVIEW COLLEGIATE': 4.705882352941177,\n",
       " 'NUCLEUS HIGH SCHOOL': 4.625,\n",
       " 'SPRINGBROOK P.S.': 3.3,\n",
       " 'AYLESBURY P.S.': 3.125,\n",
       " 'CASTLE OAKS P.S.': 4.0,\n",
       " 'NELSON MENDELA P.S.': 3.6923076923076925,\n",
       " 'ROSS DRIVE P.S.': 3.5,\n",
       " 'JEAN AUGUSTINE S.S.': 2.066666666666667,\n",
       " 'ST. ALPHONSA CATHOLIC E.S': 3.3333333333333335,\n",
       " \"WHALEY'S CORNERS P.S.\": 3.1,\n",
       " 'TRIBUNE DRIVE P.S.': 3.357142857142857,\n",
       " 'CENTENNIAL SR.P.S.': 4.25,\n",
       " 'ST. JOACHIM E.S.': 4.333333333333333,\n",
       " 'ST. JOSEPHINE BAKHITA CATHOLIC E.S.': 2.857142857142857,\n",
       " 'HAROLD M. BRATHWAITE S.S.': 3.625,\n",
       " 'EAGLE PLAINS P.S.': 4.0,\n",
       " 'OUR LADY OF FATIMA E.S.': 4.357142857142857,\n",
       " 'HAROLD F. LOUGHIN P.S.': 3.0,\n",
       " 'ECOLE ELEMENTAIRE CARREFOUR DES JEUNES': 0.0,\n",
       " 'BRISDALE P.S.': 3.7857142857142856,\n",
       " 'LOUISE ARBOUR S.S.': 4.0,\n",
       " 'CHINGUACOUSY S.S.': 3.2666666666666666,\n",
       " 'THORNDALE P.S.': 2.375,\n",
       " 'JUDITH NYMAN S.S.': 2.2,\n",
       " 'WILLIAMS PARKWAY SR.P.S.': 4.294117647058823,\n",
       " 'ST. ANNE E.S.': 4.470588235294118,\n",
       " 'ST. MARIA GORETTI E.S.': 0.0,\n",
       " 'ST. JEAN-MARIE VIANNEY CATHOLIC E.S.': 3.533333333333333,\n",
       " 'INNOCENT HEARTS SECONDARY SCHOOL': 4.666666666666667,\n",
       " 'ST. ANDRE BESSETTE CATHOLIC E.S.': 1.3333333333333333,\n",
       " 'LORENVILLE P.S.': 2.8461538461538463,\n",
       " 'WALNUT GROVE P.S.': 2.6,\n",
       " 'ELDORADO P.S.': 3.736842105263158,\n",
       " 'SIR ISAAC BROCK P.S.': 2.75,\n",
       " 'CASTLEMORE P.S.': 3.3,\n",
       " 'HOMESTEAD P.S.': 3.909090909090909,\n",
       " 'MOUNT PLEASANT VILLAGE P.S.': 3.3529411764705883,\n",
       " 'DAVID SUZUKI S.S.': 3.533333333333333,\n",
       " 'SIR WILFRID LAURIER P.S.': 3.4285714285714284,\n",
       " 'GLENDALE P.S.': 2.5,\n",
       " 'ST. BONAVENTURE CATHOLIC E.S.': 3.8,\n",
       " 'OUR LADY OF PROVIDENCE E.S.': 2.25,\n",
       " 'ST. AIDAN CATHOLIC E.S.': 2.5,\n",
       " 'ST. JOHN FISHER E.S.': 2.909090909090909,\n",
       " 'BISHOP FRANCIS ALLEN E.S.': 4.166666666666667,\n",
       " 'CENTRAL PEEL S.S.': 2.8181818181818183,\n",
       " 'PEEL ALTERNATIVE SCHOOL NORTH': 2.75,\n",
       " 'MCHUGH P.S.': 0.5,\n",
       " 'ST. ISAAC JOGUES E.S.': 2.6,\n",
       " 'CONESTOGA P.S.': 2.5,\n",
       " 'ST. RITA E.S.': 4.25,\n",
       " 'ROBERTA BONDAR P.S.': 3.1333333333333333,\n",
       " 'SUNNY VIEW M.S.': 3.7058823529411766,\n",
       " 'ROWNTREE MONTESSORI SCHOOLS': 4.647058823529412,\n",
       " 'QUEENSWOOD HIGH SCHOOL': 0.0,\n",
       " 'HEART LAKE S.S.': 2.411764705882353,\n",
       " 'STANLEY MILLS P.S.': 2.6,\n",
       " 'GREAT LAKES P.S.': 3.375,\n",
       " 'MOUNTAIN ASH P.S.': 3.0,\n",
       " 'GOOD SHEPHERD E.S.': 2.9,\n",
       " 'RAY LAWSON P.S.': 3.75,\n",
       " 'INGLEBOROUGH P.S.': 2.2,\n",
       " 'FAIRLAWN P.S.': 3.5,\n",
       " 'CASTLEBROOKE S.S.': 2.142857142857143,\n",
       " 'KINDERKOLLEGE ELEMENTARY SCHOOL': 4.0,\n",
       " 'GEORGES VANIER CATHOLIC E.S.': 3.0,\n",
       " 'FERNFOREST P.S.': 3.2,\n",
       " 'ST. EDMUND CAMPION S.S.': 4.25,\n",
       " 'ST. AUGUSTINE S.S.': 3.625,\n",
       " 'SANDALWOOD HEIGHTS S.S.': 3.0,\n",
       " 'RUSSELL D. BARBER P.S.': 4.285714285714286,\n",
       " 'ROWNTREE P.S.': 4.533333333333333,\n",
       " 'BRAMPTON CENTENNIAL S.S.': 3.3846153846153846,\n",
       " 'SIR JOHN A. MACDONALD SR.P.S.': 4.461538461538462,\n",
       " 'FATHER CLAIR TIPPING E.S.': 3.2857142857142856,\n",
       " \"ECOLE ELEMENTAIRE CATHOLIQUE SAINTE-JEANNE-D'ARC\": 3.75,\n",
       " 'ST. LUCY CATHOLIC E.S.': 3.2,\n",
       " 'ST. THOMAS AQUINAS S.S.': 2.1875,\n",
       " 'RIDGEVIEW P.S.': 2.3,\n",
       " 'HOLY SPIRIT E.S.': 4.0,\n",
       " 'SACRED HEART E.S.': 2.5,\n",
       " 'GOLDCREST P.S.': 4.0,\n",
       " 'PARKWAY P.S.': 1.875,\n",
       " 'CHEYNE M.S.': 2.7857142857142856,\n",
       " 'KINGSWOOD DRIVE P.S.': 3.5,\n",
       " 'HEWSON P.S.': 4.4,\n",
       " 'BALMORAL DRIVE SR.P.S.': 3.1818181818181817,\n",
       " 'HUTTONVILLE P.S.': 2.875,\n",
       " 'CANADA CHRISTIAN ACADEMY': 2.5,\n",
       " 'HANOVER P.S.': 3.75,\n",
       " 'BEATTY-FLEMING SR.P.S.': 2.4285714285714284,\n",
       " 'CLARK BOULEVARD P.S.': 2.0,\n",
       " 'ST. ROCH CATHOLIC S.S.': 4.3,\n",
       " 'MORTON WAY P.S.': 4.083333333333333,\n",
       " 'WESTERVELTS CORNERS P.S.': 3.909090909090909,\n",
       " 'NOTRE DAME S.S.': 2.75,\n",
       " 'ST. LEONARD E.S.': 3.9166666666666665,\n",
       " 'GORDON GRAYDON SR.P.S.': 3.090909090909091,\n",
       " 'ST. STEPHEN E.S.': 3.5,\n",
       " 'ROBERT J. LEE P.S.': 4.0,\n",
       " 'CALDERSTONE M.S.': 3.5555555555555554,\n",
       " 'CHERRYTREE P.S.': 3.2857142857142856,\n",
       " 'OUR LADY OF PEACE SEPARATE E.S.': 3.7142857142857144,\n",
       " 'TREELINE P.S.': 4.444444444444445,\n",
       " 'ARNOTT CHARLTON P.S.': 2.7142857142857144,\n",
       " 'JAMES POTTER P.S.': 3.6363636363636362,\n",
       " 'CLAIREVILLE P.S.': 3.5,\n",
       " 'ST. ANTHONY E.S.': 4.0,\n",
       " 'TERRY FOX P.S.': 3.75,\n",
       " 'MASSEY STREET P.S.': 2.5,\n",
       " \"FLETCHER'S CREEK SR.P.S.\": 2.8823529411764706,\n",
       " 'HELEN WILSON P.S.': 1.0,\n",
       " 'SIR WINSTON CHURCHILL P.S.': 2.875,\n",
       " 'TALL PINES SCHOOL': 3.7142857142857144,\n",
       " 'BURNT ELM P.S.': 2.111111111111111,\n",
       " 'MCCRIMMON M.S.': 2.4545454545454546,\n",
       " 'ST. ANGELA MERICI CATHOLIC E.S.': 2.5,\n",
       " 'HIGH FIVE ACADEMY FOR LEARNING': 3.8125,\n",
       " 'ONTARIO E-SECONDARY SCHOOL': 4.357142857142857,\n",
       " 'SHILOH CHRISTIAN INSTITUTE': 0.0,\n",
       " 'SIR FREDERICK BANTING INTERNATIONAL SCHOOL': 3.3846153846153846,\n",
       " 'THE EDUCATORS ACADEMY': 4.4375,\n",
       " 'ST. DANIEL COMBONI CATHOLIC E.S.': 3.0,\n",
       " 'ISP PREP  MIDDLE-SECONDARY SCHOOL OF MEDICINE': 4.0,\n",
       " 'SCHOLARS ACADEMY': 4.1,\n",
       " 'UMMATI LEARNING CENTER': 4.166666666666667,\n",
       " 'AIMS PLUS HIGH SCHOOL': 4.684210526315789,\n",
       " 'ST. JACINTA MARTO CATHOLIC E.S.': 0.0,\n",
       " 'ACE SCHOLARS ACADEMY': 2.0,\n",
       " 'CITEM SECONDARY SCHOOL': 3.3846153846153846,\n",
       " 'QUEENS GATE ACADEMY': 4.125,\n",
       " 'XPERT PRIVATE HIGH SCHOOL': 4.6875,\n",
       " 'MY FIRST MONTESSORI SCHOOL': 4.166666666666667,\n",
       " 'CANSTEM EDUCATION PRIVATE SCHOOL': 4.666666666666667,\n",
       " 'EDUSMILE ONTARIO HIGH SCHOOL': 4.7368421052631575,\n",
       " 'ELITE PRIVATE SCHOOL DE ONTARIO': 4.666666666666667,\n",
       " 'EXCEL YOUR EDUCATION ACADEMY': 4.166666666666667,\n",
       " 'MY LEARNING OASIS': 4.166666666666667,\n",
       " 'POLKADOTS PLAYLAND & MONTESSORI CENTRE': 4.35,\n",
       " 'QUARK WEST SCHOOL': 0.0,\n",
       " 'BONI MONTESSORI': 3.5833333333333335,\n",
       " 'BRAMPTON COLLEGE OF HEALTH,BUSINESS & TECHNOLOGY': 3.75}"
      ]
     },
     "execution_count": 32,
     "metadata": {},
     "output_type": "execute_result"
    }
   ],
   "source": [
    "avg_school_ratings"
   ]
  },
  {
   "cell_type": "code",
   "execution_count": 52,
   "id": "d50a3f36",
   "metadata": {
    "scrolled": true
   },
   "outputs": [],
   "source": [
    "# we want to obtain the information to add to the final array sheet\n",
    "# need the school names, latitude, longitude, avg_rating\n",
    "\n",
    "display_data = {'school': [], 'latitude': [], 'longitude': [], 'avg_rating': []}\n",
    "\n",
    "sd = open('schools.json')\n",
    "filex = json.load(sd)\n",
    "\n",
    "\n",
    "for i in range(data.shape[0]):\n",
    "    if data.loc[i, 'school'] not in display_data['school']:\n",
    "        display_data['school'].append(data.loc[i, 'school'])\n",
    "        \n",
    "        for attributes in filex['features']:\n",
    "            if attributes['attributes']['SCHOOL_NAME'] == data.loc[i, 'school']:\n",
    "                display_data['latitude'].append(attributes['geometry']['y'])\n",
    "                display_data['longitude'].append(attributes['geometry']['x'])\n",
    "            \n",
    "        display_data['avg_rating'].append(avg_school_ratings[data.loc[i, 'school']])\n",
    "    \n",
    "\n",
    "display_data = pd.DataFrame(display_data)\n",
    "display_data.to_excel(\"final.xlsx\", index=False)\n"
   ]
  },
  {
   "cell_type": "code",
   "execution_count": 53,
   "id": "8b7cb3bc",
   "metadata": {},
   "outputs": [
    {
     "data": {
      "text/html": [
       "<div>\n",
       "<style scoped>\n",
       "    .dataframe tbody tr th:only-of-type {\n",
       "        vertical-align: middle;\n",
       "    }\n",
       "\n",
       "    .dataframe tbody tr th {\n",
       "        vertical-align: top;\n",
       "    }\n",
       "\n",
       "    .dataframe thead th {\n",
       "        text-align: right;\n",
       "    }\n",
       "</style>\n",
       "<table border=\"1\" class=\"dataframe\">\n",
       "  <thead>\n",
       "    <tr style=\"text-align: right;\">\n",
       "      <th></th>\n",
       "      <th>school</th>\n",
       "      <th>latitude</th>\n",
       "      <th>longitude</th>\n",
       "      <th>avg_rating</th>\n",
       "    </tr>\n",
       "  </thead>\n",
       "  <tbody>\n",
       "    <tr>\n",
       "      <th>0</th>\n",
       "      <td>BERYL FORD P.S.</td>\n",
       "      <td>43.790683</td>\n",
       "      <td>-79.669568</td>\n",
       "      <td>4.142857</td>\n",
       "    </tr>\n",
       "    <tr>\n",
       "      <th>1</th>\n",
       "      <td>XYNA INTERNATIONAL HIGH SCHOOL</td>\n",
       "      <td>43.704101</td>\n",
       "      <td>-79.786456</td>\n",
       "      <td>4.235294</td>\n",
       "    </tr>\n",
       "    <tr>\n",
       "      <th>2</th>\n",
       "      <td>LOTE TREE FOUNDATION</td>\n",
       "      <td>43.737570</td>\n",
       "      <td>-79.769513</td>\n",
       "      <td>0.500000</td>\n",
       "    </tr>\n",
       "    <tr>\n",
       "      <th>3</th>\n",
       "      <td>LEARNING GENIUS ACADEMY INC</td>\n",
       "      <td>43.772437</td>\n",
       "      <td>-79.662223</td>\n",
       "      <td>3.750000</td>\n",
       "    </tr>\n",
       "    <tr>\n",
       "      <th>4</th>\n",
       "      <td>KHALSA COMMUNITY SCHOOL</td>\n",
       "      <td>43.730643</td>\n",
       "      <td>-79.740001</td>\n",
       "      <td>3.066667</td>\n",
       "    </tr>\n",
       "    <tr>\n",
       "      <th>...</th>\n",
       "      <td>...</td>\n",
       "      <td>...</td>\n",
       "      <td>...</td>\n",
       "      <td>...</td>\n",
       "    </tr>\n",
       "    <tr>\n",
       "      <th>227</th>\n",
       "      <td>MY LEARNING OASIS</td>\n",
       "      <td>43.786797</td>\n",
       "      <td>-79.733364</td>\n",
       "      <td>4.166667</td>\n",
       "    </tr>\n",
       "    <tr>\n",
       "      <th>228</th>\n",
       "      <td>POLKADOTS PLAYLAND &amp; MONTESSORI CENTRE</td>\n",
       "      <td>43.659979</td>\n",
       "      <td>-79.813178</td>\n",
       "      <td>4.350000</td>\n",
       "    </tr>\n",
       "    <tr>\n",
       "      <th>229</th>\n",
       "      <td>QUARK WEST SCHOOL</td>\n",
       "      <td>43.632667</td>\n",
       "      <td>-79.784334</td>\n",
       "      <td>0.000000</td>\n",
       "    </tr>\n",
       "    <tr>\n",
       "      <th>230</th>\n",
       "      <td>BONI MONTESSORI</td>\n",
       "      <td>43.749442</td>\n",
       "      <td>-79.728107</td>\n",
       "      <td>3.583333</td>\n",
       "    </tr>\n",
       "    <tr>\n",
       "      <th>231</th>\n",
       "      <td>BRAMPTON COLLEGE OF HEALTH,BUSINESS &amp; TECHNOLOGY</td>\n",
       "      <td>43.711972</td>\n",
       "      <td>-79.677910</td>\n",
       "      <td>3.750000</td>\n",
       "    </tr>\n",
       "  </tbody>\n",
       "</table>\n",
       "<p>232 rows × 4 columns</p>\n",
       "</div>"
      ],
      "text/plain": [
       "                                               school   latitude  longitude  \\\n",
       "0                                     BERYL FORD P.S.  43.790683 -79.669568   \n",
       "1                      XYNA INTERNATIONAL HIGH SCHOOL  43.704101 -79.786456   \n",
       "2                                LOTE TREE FOUNDATION  43.737570 -79.769513   \n",
       "3                         LEARNING GENIUS ACADEMY INC  43.772437 -79.662223   \n",
       "4                             KHALSA COMMUNITY SCHOOL  43.730643 -79.740001   \n",
       "..                                                ...        ...        ...   \n",
       "227                                 MY LEARNING OASIS  43.786797 -79.733364   \n",
       "228            POLKADOTS PLAYLAND & MONTESSORI CENTRE  43.659979 -79.813178   \n",
       "229                                 QUARK WEST SCHOOL  43.632667 -79.784334   \n",
       "230                                   BONI MONTESSORI  43.749442 -79.728107   \n",
       "231  BRAMPTON COLLEGE OF HEALTH,BUSINESS & TECHNOLOGY  43.711972 -79.677910   \n",
       "\n",
       "     avg_rating  \n",
       "0      4.142857  \n",
       "1      4.235294  \n",
       "2      0.500000  \n",
       "3      3.750000  \n",
       "4      3.066667  \n",
       "..          ...  \n",
       "227    4.166667  \n",
       "228    4.350000  \n",
       "229    0.000000  \n",
       "230    3.583333  \n",
       "231    3.750000  \n",
       "\n",
       "[232 rows x 4 columns]"
      ]
     },
     "execution_count": 53,
     "metadata": {},
     "output_type": "execute_result"
    }
   ],
   "source": []
  },
  {
   "cell_type": "code",
   "execution_count": 56,
   "id": "756d30a3",
   "metadata": {},
   "outputs": [
    {
     "data": {
      "application/vnd.plotly.v1+json": {
       "config": {
        "plotlyServerURL": "https://plot.ly"
       },
       "data": [
        {
         "hovertemplate": "<b>%{hovertext}</b><br><br>avg_rating=%{marker.color}<br>latitude=%{lat}<br>longitude=%{lon}<extra></extra>",
         "hovertext": [
          "BERYL FORD P.S.",
          "XYNA INTERNATIONAL HIGH SCHOOL",
          "LOTE TREE FOUNDATION",
          "LEARNING GENIUS ACADEMY INC",
          "KHALSA COMMUNITY SCHOOL",
          "OUR LADY OF LOURDES CATHOLIC E.S.",
          "ALGOMA UNIVERSITY",
          "MAKKI ISLAMIC LEARNING CENTRE",
          "ST. PATRICK SEPARATE E.S.",
          "HOLY NAME OF MARY CATHOLIC S.S.",
          "LARKSPUR P.S.",
          "ST. FRANCIS XAVIER E.S.",
          "ST. URSULA E.S.",
          "ST. MARGUERITE D'YOUVILLE S.S.",
          "PARKHOLME SCHOOL",
          "FLETCHER'S MEADOW S.S.",
          "ROBERT H. LAGERQUIST SR.P.S.",
          "ESKER LAKE P.S.",
          "FOLKSTONE P.S.",
          "ST. AGNES E.S.",
          "ST. KEVIN SEPARATE E.S.",
          "ST. JOHN BOSCO E.S.",
          "HILLDALE P.S.",
          "DORSET DRIVE P.S.",
          "SPRINGDALE P.S.",
          "NORTH PARK S.S.",
          "SHAW P.S.",
          "CARDINAL AMBROZIC CATHOLIC S.S.",
          "ST. CECILIA E.S.",
          "APPLEWOOD MONTESSORI ACADEMY & DAYCARE",
          "JOHN KNOX CHRISTIAN SCHOOL",
          "ST. BRIGID E.S.",
          "RED WILLOW P.S.",
          "ST. JOSEPH BRAMPTON E.S.",
          "TURNER FENTON S.S.",
          "SHERIDAN COLLEGE DAVIS CAMPUS",
          "ADULT EDUCATION CENTRE BRAMPTON CAMPUS",
          "ROYAL ORCHARD M.S.",
          "ECOLE SECONDAIRE JEUNES SANS FRONTIERES",
          "WALI UL ASR SCHOOL - GTA WEST CAMPUS",
          "CARDINAL LEGER S.S.",
          "WORTHINGTON P.S.",
          "EASTBOURNE DRIVE P.S.",
          "NORTHWOOD P.S.",
          "CARDINAL NEWMAN CATHOLIC E.S.",
          "ST. MARY E.S.",
          "MOUNT ROYAL P.S.",
          "QUEEN STREET P.S.",
          "HICKORY WOOD P.S.",
          "SIR WILLIAM GAGE M.S.",
          "FATHER C.W. SULLIVAN E.S.",
          "GUARDIAN ANGELS E.S.",
          "EDENBROOK HILL P.S.",
          "ST. MONICA E.S.",
          "ALOMA CRESCENT P.S.",
          "PAULINE VANIER CATHOLIC E.S.",
          "ST. MARGUERITE BOURGEOYS SEPARATE E.S.",
          "FATHER FRANCIS MCSPIRITT CATHOLIC E.S.",
          "CARBERRY P.S.",
          "BIRCHBANK P.S.",
          "FALLINGDALE P.S.",
          "BRAMALEA S.S.",
          "SOMERSET DRIVE P.S.",
          "EARNSCLIFFE SR.P.S.",
          "COPELAND P.S.",
          "WILLIAM G. DAVIS SR.P.S.",
          "MADOC DRIVE P.S.",
          "JEFFERSON P.S.",
          "LOUGHEED M.S.",
          "BLESSSED MICHAEL J. MCGIVNEY CATHOLIC E.S.",
          "DOON SCHOOL",
          "NOON ACADEMY",
          "LESTER B. PEARSON CATHOLIC E.S.",
          "ST. JEAN BREBEUF E.S.",
          "GREENBRIAR M.S.",
          "GRENOBLE P.S.",
          "CHURCHVILLE P.S.",
          "MONTESSORI LEADERS SCHOOL",
          "KMSCHOOL",
          "PREMIUM INSTITUTE OF EXCELLENCE",
          "SONGBIRDS MONTESSORI SCHOOL",
          "AGNES TAYLOR P.S.",
          "MCCLURE P.S.",
          "COUNTRYSIDE VILLAGE P.S.",
          "DOLSON P.S.",
          "AL-AMEEN ELEMENTARY SCHOOL",
          "CAREER QUEST- BRAMPTON",
          "GOBIND SARVAR BRAMPTON",
          "GREEN APPLE ALTERNATIVE SCHOOL",
          "KNOX BRIDGE SCHOOL",
          "NORTHVIEW COLLEGIATE",
          "NUCLEUS HIGH SCHOOL",
          "SPRINGBROOK P.S.",
          "AYLESBURY P.S.",
          "CASTLE OAKS P.S.",
          "NELSON MENDELA P.S.",
          "ROSS DRIVE P.S.",
          "JEAN AUGUSTINE S.S.",
          "ST. ALPHONSA CATHOLIC E.S",
          "WHALEY'S CORNERS P.S.",
          "TRIBUNE DRIVE P.S.",
          "CENTENNIAL SR.P.S.",
          "ST. JOACHIM E.S.",
          "ST. JOSEPHINE BAKHITA CATHOLIC E.S.",
          "HAROLD M. BRATHWAITE S.S.",
          "EAGLE PLAINS P.S.",
          "OUR LADY OF FATIMA E.S.",
          "HAROLD F. LOUGHIN P.S.",
          "ECOLE ELEMENTAIRE CARREFOUR DES JEUNES",
          "BRISDALE P.S.",
          "LOUISE ARBOUR S.S.",
          "CHINGUACOUSY S.S.",
          "THORNDALE P.S.",
          "JUDITH NYMAN S.S.",
          "WILLIAMS PARKWAY SR.P.S.",
          "ST. ANNE E.S.",
          "ST. MARIA GORETTI E.S.",
          "ST. JEAN-MARIE VIANNEY CATHOLIC E.S.",
          "INNOCENT HEARTS SECONDARY SCHOOL",
          "ST. ANDRE BESSETTE CATHOLIC E.S.",
          "LORENVILLE P.S.",
          "WALNUT GROVE P.S.",
          "ELDORADO P.S.",
          "SIR ISAAC BROCK P.S.",
          "CASTLEMORE P.S.",
          "HOMESTEAD P.S.",
          "MOUNT PLEASANT VILLAGE P.S.",
          "DAVID SUZUKI S.S.",
          "SIR WILFRID LAURIER P.S.",
          "GLENDALE P.S.",
          "ST. BONAVENTURE CATHOLIC E.S.",
          "OUR LADY OF PROVIDENCE E.S.",
          "ST. AIDAN CATHOLIC E.S.",
          "ST. JOHN FISHER E.S.",
          "BISHOP FRANCIS ALLEN E.S.",
          "CENTRAL PEEL S.S.",
          "PEEL ALTERNATIVE SCHOOL NORTH",
          "MCHUGH P.S.",
          "ST. ISAAC JOGUES E.S.",
          "CONESTOGA P.S.",
          "ST. RITA E.S.",
          "ROBERTA BONDAR P.S.",
          "SUNNY VIEW M.S.",
          "ROWNTREE MONTESSORI SCHOOLS",
          "QUEENSWOOD HIGH SCHOOL",
          "HEART LAKE S.S.",
          "STANLEY MILLS P.S.",
          "GREAT LAKES P.S.",
          "MOUNTAIN ASH P.S.",
          "GOOD SHEPHERD E.S.",
          "RAY LAWSON P.S.",
          "INGLEBOROUGH P.S.",
          "FAIRLAWN P.S.",
          "CASTLEBROOKE S.S.",
          "KINDERKOLLEGE ELEMENTARY SCHOOL",
          "GEORGES VANIER CATHOLIC E.S.",
          "FERNFOREST P.S.",
          "ST. EDMUND CAMPION S.S.",
          "ST. AUGUSTINE S.S.",
          "SANDALWOOD HEIGHTS S.S.",
          "RUSSELL D. BARBER P.S.",
          "ROWNTREE P.S.",
          "BRAMPTON CENTENNIAL S.S.",
          "SIR JOHN A. MACDONALD SR.P.S.",
          "FATHER CLAIR TIPPING E.S.",
          "ECOLE ELEMENTAIRE CATHOLIQUE SAINTE-JEANNE-D'ARC",
          "ST. LUCY CATHOLIC E.S.",
          "ST. THOMAS AQUINAS S.S.",
          "RIDGEVIEW P.S.",
          "HOLY SPIRIT E.S.",
          "SACRED HEART E.S.",
          "GOLDCREST P.S.",
          "PARKWAY P.S.",
          "CHEYNE M.S.",
          "KINGSWOOD DRIVE P.S.",
          "HEWSON P.S.",
          "BALMORAL DRIVE SR.P.S.",
          "HUTTONVILLE P.S.",
          "CANADA CHRISTIAN ACADEMY",
          "HANOVER P.S.",
          "BEATTY-FLEMING SR.P.S.",
          "CLARK BOULEVARD P.S.",
          "ST. ROCH CATHOLIC S.S.",
          "MORTON WAY P.S.",
          "WESTERVELTS CORNERS P.S.",
          "NOTRE DAME S.S.",
          "ST. LEONARD E.S.",
          "GORDON GRAYDON SR.P.S.",
          "ST. STEPHEN E.S.",
          "ROBERT J. LEE P.S.",
          "CALDERSTONE M.S.",
          "CHERRYTREE P.S.",
          "OUR LADY OF PEACE SEPARATE E.S.",
          "TREELINE P.S.",
          "ARNOTT CHARLTON P.S.",
          "JAMES POTTER P.S.",
          "CLAIREVILLE P.S.",
          "ST. ANTHONY E.S.",
          "TERRY FOX P.S.",
          "MASSEY STREET P.S.",
          "FLETCHER'S CREEK SR.P.S.",
          "HELEN WILSON P.S.",
          "SIR WINSTON CHURCHILL P.S.",
          "TALL PINES SCHOOL",
          "BURNT ELM P.S.",
          "MCCRIMMON M.S.",
          "ST. ANGELA MERICI CATHOLIC E.S.",
          "HIGH FIVE ACADEMY FOR LEARNING",
          "ONTARIO E-SECONDARY SCHOOL",
          "SHILOH CHRISTIAN INSTITUTE",
          "SIR FREDERICK BANTING INTERNATIONAL SCHOOL",
          "THE EDUCATORS ACADEMY",
          "ST. DANIEL COMBONI CATHOLIC E.S.",
          "ISP PREP  MIDDLE-SECONDARY SCHOOL OF MEDICINE",
          "SCHOLARS ACADEMY",
          "UMMATI LEARNING CENTER",
          "AIMS PLUS HIGH SCHOOL",
          "ST. JACINTA MARTO CATHOLIC E.S.",
          "ACE SCHOLARS ACADEMY",
          "CITEM SECONDARY SCHOOL",
          "QUEENS GATE ACADEMY",
          "XPERT PRIVATE HIGH SCHOOL",
          "MY FIRST MONTESSORI SCHOOL",
          "CANSTEM EDUCATION PRIVATE SCHOOL",
          "EDUSMILE ONTARIO HIGH SCHOOL",
          "ELITE PRIVATE SCHOOL DE ONTARIO",
          "EXCEL YOUR EDUCATION ACADEMY",
          "MY LEARNING OASIS",
          "POLKADOTS PLAYLAND & MONTESSORI CENTRE",
          "QUARK WEST SCHOOL",
          "BONI MONTESSORI",
          "BRAMPTON COLLEGE OF HEALTH,BUSINESS & TECHNOLOGY"
         ],
         "lat": [
          43.79068314403572,
          43.704100751329655,
          43.73756997275267,
          43.7724365871091,
          43.73064312568253,
          43.791187914496135,
          43.68674645191526,
          43.72160508207985,
          43.81759598213886,
          43.733826645634224,
          43.754362805498,
          43.67480872478028,
          43.68904980808456,
          43.75218137786684,
          43.69987362600318,
          43.700148727385546,
          43.73246119906303,
          43.732651786186736,
          43.73010034129091,
          43.72484535950671,
          43.66085634930161,
          43.74221958077233,
          43.72917532221148,
          43.71607823127736,
          43.75371031331438,
          43.72046587731897,
          43.77525153767049,
          43.788158334508026,
          43.70459684944006,
          43.692416700208426,
          43.6721521314935,
          43.658402962489625,
          43.77343888802023,
          43.67686719191651,
          43.67497273684452,
          43.65632779823436,
          43.65897208798911,
          43.69458884180282,
          43.62442378658498,
          43.66736256483771,
          43.68421260251981,
          43.68445911831472,
          43.72186843928552,
          43.674928383494205,
          43.721858538727815,
          43.683881265406846,
          43.79020945126551,
          43.670587414353975,
          43.64631409298463,
          43.67189389128205,
          43.706237007824726,
          43.68655335660964,
          43.69563755940685,
          43.665047957852195,
          43.708135606522426,
          43.646715489830555,
          43.727704423944374,
          43.77465448016147,
          43.75626880297041,
          43.7029919549219,
          43.7230033328912,
          43.715603242824,
          43.72901300233184,
          43.72313121207122,
          43.65019483286672,
          43.6709420065215,
          43.70334216391991,
          43.738275331805184,
          43.75682719919191,
          43.75274815801371,
          43.71806129126119,
          43.70109416316719,
          43.72299867859516,
          43.73420818100133,
          43.73629761388042,
          43.73817474651973,
          43.656387424440915,
          43.69261990988254,
          43.76483580492221,
          43.77207222120782,
          43.71497528472152,
          43.69801303276223,
          43.6712736180194,
          43.758854985720866,
          43.69506469322119,
          43.694986556689294,
          43.66018140129786,
          43.74535127438119,
          43.683852634214304,
          43.749370126599835,
          43.7571872915548,
          43.751072580384516,
          43.66606758006128,
          43.6780196913211,
          43.79474013859646,
          43.691391128351114,
          43.75098485407078,
          43.66730748022988,
          43.63520574561593,
          43.6309345613644,
          43.69065479694153,
          43.67305497592021,
          43.713254174541724,
          43.72094509949446,
          43.739655132677896,
          43.77350748045506,
          43.68829412981191,
          43.70855129564442,
          43.70701766693054,
          43.69839387811732,
          43.75989365431498,
          43.73720222353734,
          43.7820079885907,
          43.73243363514601,
          43.73074015261249,
          43.69962493051564,
          43.696449924215095,
          43.66964851925187,
          43.75917005558788,
          43.76548435589802,
          43.663366155640034,
          43.77958295859838,
          43.63472949665309,
          43.795380682556825,
          43.78964807115629,
          43.688361249828404,
          43.67718517882054,
          43.66834289417654,
          43.677308269098226,
          43.68742357034505,
          43.68720744809208,
          43.7440889019776,
          43.69640166615104,
          43.71124161747876,
          43.666167034753485,
          43.698635637310836,
          43.679047887349974,
          43.67973942484372,
          43.73582223413994,
          43.71522887408057,
          43.73695807494512,
          43.64078175904644,
          43.76149309159992,
          43.70949634989565,
          43.757164631275906,
          43.71663679330462,
          43.76054035767041,
          43.736671530765626,
          43.771931992160894,
          43.75626348006027,
          43.64229390353943,
          43.65965830420301,
          43.76806913879086,
          43.78477598490781,
          43.71837966769822,
          43.72751853108832,
          43.746453812759114,
          43.69471448083068,
          43.65811317732141,
          43.765927054158794,
          43.723503137730404,
          43.706616741760044,
          43.66658239502554,
          43.699502970418024,
          43.764847619634814,
          43.71069630235018,
          43.70815602613938,
          43.73905550727414,
          43.67251481398531,
          43.78460900087074,
          43.733371067012946,
          43.7298505068889,
          43.67672093512303,
          43.70547669630122,
          43.70250573728518,
          43.766295327642176,
          43.70844070404476,
          43.64168229885805,
          43.68007824878443,
          43.71892269015601,
          43.678786309990066,
          43.7147772309155,
          43.672934732227226,
          43.656285825146405,
          43.704324688472965,
          43.719572135238366,
          43.72338444248172,
          43.70800852192536,
          43.728243048805695,
          43.76389543459419,
          43.77202812259766,
          43.65408413610953,
          43.67407835406573,
          43.778321502454084,
          43.715049490970955,
          43.67289095682454,
          43.771463844573816,
          43.73630731388776,
          43.73142202381474,
          43.73819976215871,
          43.65835600028965,
          43.681390255487116,
          43.68901034964805,
          43.72516555280771,
          43.71848586591107,
          43.690458504533964,
          43.695593879208765,
          43.71272779932118,
          43.758810759869064,
          43.769166106040785,
          43.73925824879673,
          43.674918613914684,
          43.679598721066384,
          43.75117982224026,
          43.76813650183017,
          43.660160967119886,
          43.699593172336435,
          43.657036686346274,
          43.791202418949325,
          43.66325825391607,
          43.69959411591734,
          43.7876804154578,
          43.69726668165259,
          43.68157923508043,
          43.76470198169472,
          43.78679736391444,
          43.75761899601373,
          43.78679736391444,
          43.65997922185649,
          43.63266695522018,
          43.74944188353519,
          43.71197172335984
         ],
         "legendgroup": "",
         "lon": [
          -79.66956789645043,
          -79.78645602644978,
          -79.76951250218512,
          -79.6622229730091,
          -79.7400005990377,
          -79.74694135636626,
          -79.75944885448412,
          -79.69049479966381,
          -79.72682667844975,
          -79.7164433933236,
          -79.74941413315844,
          -79.73828376328231,
          -79.79998607731335,
          -79.77654204013858,
          -79.8282620373232,
          -79.82867821573127,
          -79.79544299908544,
          -79.77734389441939,
          -79.70651995267202,
          -79.78075383970972,
          -79.73174103332211,
          -79.73303630521694,
          -79.72825440483734,
          -79.6989764042989,
          -79.76672725124065,
          -79.74841849106869,
          -79.75148413383529,
          -79.68331672913287,
          -79.78078235598369,
          -79.8179887323987,
          -79.76365605493122,
          -79.75973648647181,
          -79.70131121839847,
          -79.77880168816782,
          -79.719247071758,
          -79.73892050240651,
          -79.72632982475454,
          -79.78654294571079,
          -79.75813804156357,
          -79.71153771224625,
          -79.75164320555024,
          -79.81857694140972,
          -79.69621226144766,
          -79.77511175613881,
          -79.69982857209831,
          -79.7533155460054,
          -79.74852865788733,
          -79.77242614860117,
          -79.74290179249968,
          -79.774402090881,
          -79.74692950868821,
          -79.81943492588175,
          -79.80831746800276,
          -79.77217908782522,
          -79.7037223761725,
          -79.7344918902586,
          -79.75384781261573,
          -79.69824980928314,
          -79.77493268757812,
          -79.7058238748772,
          -79.7099196366774,
          -79.70750473234435,
          -79.80338039622892,
          -79.70453882597819,
          -79.76270786848943,
          -79.73258505180323,
          -79.74927291891237,
          -79.7303145667517,
          -79.7711569669581,
          -79.76829315717087,
          -79.74283390372874,
          -79.74013905449645,
          -79.72882003450486,
          -79.72468293789117,
          -79.7156646459542,
          -79.71740962429186,
          -79.7804997811038,
          -79.79153975293372,
          -79.67078012160984,
          -79.66210738823838,
          -79.8009990935955,
          -79.7580541396468,
          -79.79367654801081,
          -79.78237126439053,
          -79.85110262294376,
          -79.77297404032201,
          -79.7219911913703,
          -79.66772991845889,
          -79.8116850277172,
          -79.72797348073476,
          -79.762235706822,
          -79.73843044115603,
          -79.79482776652364,
          -79.83165535722715,
          -79.67098699267844,
          -79.81387979538465,
          -79.78443752538153,
          -79.82644331030424,
          -79.77170465286704,
          -79.78757199791244,
          -79.84021972976348,
          -79.74938329225701,
          -79.76708298384617,
          -79.8265702076812,
          -79.77045750418192,
          -79.74251841661138,
          -79.77785691198136,
          -79.74765641639063,
          -79.77214258955597,
          -79.83693985951354,
          -79.76684430923267,
          -79.72842468699291,
          -79.67007509257736,
          -79.73060042153944,
          -79.7331321040274,
          -79.76395822236171,
          -79.78892586473853,
          -79.8009202347374,
          -79.71626412835472,
          -79.67432392460472,
          -79.81016422163052,
          -79.69500712363296,
          -79.77987109384262,
          -79.6751874613153,
          -79.68801058910437,
          -79.79863750671058,
          -79.82397523195934,
          -79.7874774840871,
          -79.72702782499648,
          -79.77649564442463,
          -79.82919866512307,
          -79.76009955069257,
          -79.8373596093858,
          -79.71104886894099,
          -79.74707469073192,
          -79.75135899641417,
          -79.73214934584304,
          -79.75918330641194,
          -79.76969519442135,
          -79.78619386849873,
          -79.82471454577396,
          -79.75525656308187,
          -79.75554801206388,
          -79.7837338872138,
          -79.73688544970726,
          -79.78865286320215,
          -79.75818487574155,
          -79.76800583047174,
          -79.7445853522533,
          -79.74665342726412,
          -79.74582909333056,
          -79.80339875157448,
          -79.72594358490811,
          -79.67698812954933,
          -79.72022992042477,
          -79.71139070408391,
          -79.75762762455034,
          -79.83013078825144,
          -79.76486100462758,
          -79.74408524233516,
          -79.75101368562854,
          -79.81906457092117,
          -79.74839800335498,
          -79.76590115947444,
          -79.73169675341751,
          -79.73670994734984,
          -79.82115358994565,
          -79.7106269715713,
          -79.7566004647762,
          -79.72961554190988,
          -79.7986811490029,
          -79.72053523844049,
          -79.73881138405639,
          -79.81828253325142,
          -79.76604110546184,
          -79.7599260249018,
          -79.71241794078567,
          -79.80975247077286,
          -79.74161558436364,
          -79.7290426400333,
          -79.77852242922876,
          -79.71814353391244,
          -79.80660335389811,
          -79.75104040299675,
          -79.7803593468433,
          -79.77963670188439,
          -79.79068442900159,
          -79.75475536423716,
          -79.8157188321278,
          -79.7353017306321,
          -79.69240494089358,
          -79.72483284215157,
          -79.78510191023445,
          -79.73286327640044,
          -79.76760271246206,
          -79.81139762900395,
          -79.67093543122645,
          -79.74220620821424,
          -79.79273493322624,
          -79.74644387198468,
          -79.73040615604685,
          -79.74189496618888,
          -79.74879737651857,
          -79.69313643059688,
          -79.81831975728292,
          -79.82694063035022,
          -79.81058326128469,
          -79.82706936191688,
          -79.70170528563473,
          -79.66797955977133,
          -79.69399364175042,
          -79.80597155602523,
          -79.8411704020139,
          -79.73830461981444,
          -79.73065764514604,
          -79.72315999021878,
          -79.74622473260523,
          -79.79862596979724,
          -79.68970449363631,
          -79.72826484106177,
          -79.74366380071837,
          -79.7529465079887,
          -79.84879104696897,
          -79.71734302805298,
          -79.74864650085033,
          -79.73336402321864,
          -79.70086944333005,
          -79.73336402321864,
          -79.81317753129507,
          -79.78433368033008,
          -79.72810681461272,
          -79.67791048801988
         ],
         "marker": {
          "color": [
           4.142857142857143,
           4.235294117647059,
           0.5,
           3.75,
           3.066666666666667,
           2,
           2.6,
           3.857142857142857,
           3.25,
           1.8,
           3.6,
           2.5,
           3.8,
           3.5555555555555554,
           2.75,
           2.6,
           2.8,
           3.5714285714285716,
           3.375,
           0,
           3,
           3,
           3,
           3.8461538461538463,
           3.7,
           3.6363636363636362,
           1.5,
           3.125,
           3.5,
           4.571428571428571,
           4.647058823529412,
           2.6666666666666665,
           3.769230769230769,
           3.75,
           3.933333333333333,
           2.8823529411764706,
           4.5,
           3.0588235294117645,
           2.5,
           2.75,
           3.4285714285714284,
           3.8823529411764706,
           3.2,
           3.1,
           3.3333333333333335,
           4.647058823529412,
           3.142857142857143,
           2.8181818181818183,
           3.6666666666666665,
           2.727272727272727,
           2.5,
           2.909090909090909,
           4.5,
           2,
           3.5714285714285716,
           3.3333333333333335,
           2.5,
           2.2857142857142856,
           2.875,
           2.5,
           3.7142857142857144,
           2.75,
           4,
           3.6153846153846154,
           3.875,
           2.6666666666666665,
           2,
           2.875,
           3.2142857142857144,
           3.5,
           4.647058823529412,
           4.647058823529412,
           3.4,
           2.3333333333333335,
           4.083333333333333,
           3.2,
           3.8125,
           4.2,
           4.181818181818182,
           4.705882352941177,
           4.4,
           3.1,
           0.8888888888888888,
           2.25,
           3.125,
           4.055555555555555,
           2.5,
           4.285714285714286,
           4.176470588235294,
           4.444444444444445,
           4.705882352941177,
           4.625,
           3.3,
           3.125,
           4,
           3.6923076923076925,
           3.5,
           2.066666666666667,
           3.3333333333333335,
           3.1,
           3.357142857142857,
           4.25,
           4.333333333333333,
           2.857142857142857,
           3.625,
           4,
           4.357142857142857,
           3,
           0,
           3.7857142857142856,
           4,
           3.2666666666666666,
           2.375,
           2.2,
           4.294117647058823,
           4.470588235294118,
           0,
           3.533333333333333,
           4.666666666666667,
           1.3333333333333333,
           2.8461538461538463,
           2.6,
           3.736842105263158,
           2.75,
           3.3,
           3.909090909090909,
           3.3529411764705883,
           3.533333333333333,
           3.4285714285714284,
           2.5,
           3.8,
           2.25,
           2.5,
           2.909090909090909,
           4.166666666666667,
           2.8181818181818183,
           2.75,
           0.5,
           2.6,
           2.5,
           4.25,
           3.1333333333333333,
           3.7058823529411766,
           4.647058823529412,
           0,
           2.411764705882353,
           2.6,
           3.375,
           3,
           2.9,
           3.75,
           2.2,
           3.5,
           2.142857142857143,
           4,
           3,
           3.2,
           4.25,
           3.625,
           3,
           4.285714285714286,
           4.533333333333333,
           3.3846153846153846,
           4.461538461538462,
           3.2857142857142856,
           3.75,
           3.2,
           2.1875,
           2.3,
           4,
           2.5,
           4,
           1.875,
           2.7857142857142856,
           3.5,
           4.4,
           3.1818181818181817,
           2.875,
           2.5,
           3.75,
           2.4285714285714284,
           2,
           4.3,
           4.083333333333333,
           3.909090909090909,
           2.75,
           3.9166666666666665,
           3.090909090909091,
           3.5,
           4,
           3.5555555555555554,
           3.2857142857142856,
           3.7142857142857144,
           4.444444444444445,
           2.7142857142857144,
           3.6363636363636362,
           3.5,
           4,
           3.75,
           2.5,
           2.8823529411764706,
           1,
           2.875,
           3.7142857142857144,
           2.111111111111111,
           2.4545454545454546,
           2.5,
           3.8125,
           4.357142857142857,
           0,
           3.3846153846153846,
           4.4375,
           3,
           4,
           4.1,
           4.166666666666667,
           4.684210526315789,
           0,
           2,
           3.3846153846153846,
           4.125,
           4.6875,
           4.166666666666667,
           4.666666666666667,
           4.7368421052631575,
           4.666666666666667,
           4.166666666666667,
           4.166666666666667,
           4.35,
           0,
           3.5833333333333335,
           3.75
          ],
          "coloraxis": "coloraxis",
          "size": [
           4.142857142857143,
           4.235294117647059,
           0.5,
           3.75,
           3.066666666666667,
           2,
           2.6,
           3.857142857142857,
           3.25,
           1.8,
           3.6,
           2.5,
           3.8,
           3.5555555555555554,
           2.75,
           2.6,
           2.8,
           3.5714285714285716,
           3.375,
           0,
           3,
           3,
           3,
           3.8461538461538463,
           3.7,
           3.6363636363636362,
           1.5,
           3.125,
           3.5,
           4.571428571428571,
           4.647058823529412,
           2.6666666666666665,
           3.769230769230769,
           3.75,
           3.933333333333333,
           2.8823529411764706,
           4.5,
           3.0588235294117645,
           2.5,
           2.75,
           3.4285714285714284,
           3.8823529411764706,
           3.2,
           3.1,
           3.3333333333333335,
           4.647058823529412,
           3.142857142857143,
           2.8181818181818183,
           3.6666666666666665,
           2.727272727272727,
           2.5,
           2.909090909090909,
           4.5,
           2,
           3.5714285714285716,
           3.3333333333333335,
           2.5,
           2.2857142857142856,
           2.875,
           2.5,
           3.7142857142857144,
           2.75,
           4,
           3.6153846153846154,
           3.875,
           2.6666666666666665,
           2,
           2.875,
           3.2142857142857144,
           3.5,
           4.647058823529412,
           4.647058823529412,
           3.4,
           2.3333333333333335,
           4.083333333333333,
           3.2,
           3.8125,
           4.2,
           4.181818181818182,
           4.705882352941177,
           4.4,
           3.1,
           0.8888888888888888,
           2.25,
           3.125,
           4.055555555555555,
           2.5,
           4.285714285714286,
           4.176470588235294,
           4.444444444444445,
           4.705882352941177,
           4.625,
           3.3,
           3.125,
           4,
           3.6923076923076925,
           3.5,
           2.066666666666667,
           3.3333333333333335,
           3.1,
           3.357142857142857,
           4.25,
           4.333333333333333,
           2.857142857142857,
           3.625,
           4,
           4.357142857142857,
           3,
           0,
           3.7857142857142856,
           4,
           3.2666666666666666,
           2.375,
           2.2,
           4.294117647058823,
           4.470588235294118,
           0,
           3.533333333333333,
           4.666666666666667,
           1.3333333333333333,
           2.8461538461538463,
           2.6,
           3.736842105263158,
           2.75,
           3.3,
           3.909090909090909,
           3.3529411764705883,
           3.533333333333333,
           3.4285714285714284,
           2.5,
           3.8,
           2.25,
           2.5,
           2.909090909090909,
           4.166666666666667,
           2.8181818181818183,
           2.75,
           0.5,
           2.6,
           2.5,
           4.25,
           3.1333333333333333,
           3.7058823529411766,
           4.647058823529412,
           0,
           2.411764705882353,
           2.6,
           3.375,
           3,
           2.9,
           3.75,
           2.2,
           3.5,
           2.142857142857143,
           4,
           3,
           3.2,
           4.25,
           3.625,
           3,
           4.285714285714286,
           4.533333333333333,
           3.3846153846153846,
           4.461538461538462,
           3.2857142857142856,
           3.75,
           3.2,
           2.1875,
           2.3,
           4,
           2.5,
           4,
           1.875,
           2.7857142857142856,
           3.5,
           4.4,
           3.1818181818181817,
           2.875,
           2.5,
           3.75,
           2.4285714285714284,
           2,
           4.3,
           4.083333333333333,
           3.909090909090909,
           2.75,
           3.9166666666666665,
           3.090909090909091,
           3.5,
           4,
           3.5555555555555554,
           3.2857142857142856,
           3.7142857142857144,
           4.444444444444445,
           2.7142857142857144,
           3.6363636363636362,
           3.5,
           4,
           3.75,
           2.5,
           2.8823529411764706,
           1,
           2.875,
           3.7142857142857144,
           2.111111111111111,
           2.4545454545454546,
           2.5,
           3.8125,
           4.357142857142857,
           0,
           3.3846153846153846,
           4.4375,
           3,
           4,
           4.1,
           4.166666666666667,
           4.684210526315789,
           0,
           2,
           3.3846153846153846,
           4.125,
           4.6875,
           4.166666666666667,
           4.666666666666667,
           4.7368421052631575,
           4.666666666666667,
           4.166666666666667,
           4.166666666666667,
           4.35,
           0,
           3.5833333333333335,
           3.75
          ],
          "sizemode": "area",
          "sizeref": 0.011842105263157893
         },
         "mode": "markers",
         "name": "",
         "showlegend": false,
         "subplot": "mapbox",
         "type": "scattermapbox"
        }
       ],
       "layout": {
        "coloraxis": {
         "colorbar": {
          "title": {
           "text": "avg_rating"
          }
         },
         "colorscale": [
          [
           0,
           "#8B0000"
          ],
          [
           0.5,
           "#FFFF00"
          ],
          [
           1,
           "#006400"
          ]
         ]
        },
        "legend": {
         "itemsizing": "constant",
         "tracegroupgap": 0
        },
        "mapbox": {
         "center": {
          "lat": 43.71431021109621,
          "lon": -79.7549597892629
         },
         "domain": {
          "x": [
           0,
           1
          ],
          "y": [
           0,
           1
          ]
         },
         "style": "stamen-terrain",
         "zoom": 8
        },
        "margin": {
         "t": 60
        },
        "template": {
         "data": {
          "bar": [
           {
            "error_x": {
             "color": "#2a3f5f"
            },
            "error_y": {
             "color": "#2a3f5f"
            },
            "marker": {
             "line": {
              "color": "#E5ECF6",
              "width": 0.5
             },
             "pattern": {
              "fillmode": "overlay",
              "size": 10,
              "solidity": 0.2
             }
            },
            "type": "bar"
           }
          ],
          "barpolar": [
           {
            "marker": {
             "line": {
              "color": "#E5ECF6",
              "width": 0.5
             },
             "pattern": {
              "fillmode": "overlay",
              "size": 10,
              "solidity": 0.2
             }
            },
            "type": "barpolar"
           }
          ],
          "carpet": [
           {
            "aaxis": {
             "endlinecolor": "#2a3f5f",
             "gridcolor": "white",
             "linecolor": "white",
             "minorgridcolor": "white",
             "startlinecolor": "#2a3f5f"
            },
            "baxis": {
             "endlinecolor": "#2a3f5f",
             "gridcolor": "white",
             "linecolor": "white",
             "minorgridcolor": "white",
             "startlinecolor": "#2a3f5f"
            },
            "type": "carpet"
           }
          ],
          "choropleth": [
           {
            "colorbar": {
             "outlinewidth": 0,
             "ticks": ""
            },
            "type": "choropleth"
           }
          ],
          "contour": [
           {
            "colorbar": {
             "outlinewidth": 0,
             "ticks": ""
            },
            "colorscale": [
             [
              0,
              "#0d0887"
             ],
             [
              0.1111111111111111,
              "#46039f"
             ],
             [
              0.2222222222222222,
              "#7201a8"
             ],
             [
              0.3333333333333333,
              "#9c179e"
             ],
             [
              0.4444444444444444,
              "#bd3786"
             ],
             [
              0.5555555555555556,
              "#d8576b"
             ],
             [
              0.6666666666666666,
              "#ed7953"
             ],
             [
              0.7777777777777778,
              "#fb9f3a"
             ],
             [
              0.8888888888888888,
              "#fdca26"
             ],
             [
              1,
              "#f0f921"
             ]
            ],
            "type": "contour"
           }
          ],
          "contourcarpet": [
           {
            "colorbar": {
             "outlinewidth": 0,
             "ticks": ""
            },
            "type": "contourcarpet"
           }
          ],
          "heatmap": [
           {
            "colorbar": {
             "outlinewidth": 0,
             "ticks": ""
            },
            "colorscale": [
             [
              0,
              "#0d0887"
             ],
             [
              0.1111111111111111,
              "#46039f"
             ],
             [
              0.2222222222222222,
              "#7201a8"
             ],
             [
              0.3333333333333333,
              "#9c179e"
             ],
             [
              0.4444444444444444,
              "#bd3786"
             ],
             [
              0.5555555555555556,
              "#d8576b"
             ],
             [
              0.6666666666666666,
              "#ed7953"
             ],
             [
              0.7777777777777778,
              "#fb9f3a"
             ],
             [
              0.8888888888888888,
              "#fdca26"
             ],
             [
              1,
              "#f0f921"
             ]
            ],
            "type": "heatmap"
           }
          ],
          "heatmapgl": [
           {
            "colorbar": {
             "outlinewidth": 0,
             "ticks": ""
            },
            "colorscale": [
             [
              0,
              "#0d0887"
             ],
             [
              0.1111111111111111,
              "#46039f"
             ],
             [
              0.2222222222222222,
              "#7201a8"
             ],
             [
              0.3333333333333333,
              "#9c179e"
             ],
             [
              0.4444444444444444,
              "#bd3786"
             ],
             [
              0.5555555555555556,
              "#d8576b"
             ],
             [
              0.6666666666666666,
              "#ed7953"
             ],
             [
              0.7777777777777778,
              "#fb9f3a"
             ],
             [
              0.8888888888888888,
              "#fdca26"
             ],
             [
              1,
              "#f0f921"
             ]
            ],
            "type": "heatmapgl"
           }
          ],
          "histogram": [
           {
            "marker": {
             "pattern": {
              "fillmode": "overlay",
              "size": 10,
              "solidity": 0.2
             }
            },
            "type": "histogram"
           }
          ],
          "histogram2d": [
           {
            "colorbar": {
             "outlinewidth": 0,
             "ticks": ""
            },
            "colorscale": [
             [
              0,
              "#0d0887"
             ],
             [
              0.1111111111111111,
              "#46039f"
             ],
             [
              0.2222222222222222,
              "#7201a8"
             ],
             [
              0.3333333333333333,
              "#9c179e"
             ],
             [
              0.4444444444444444,
              "#bd3786"
             ],
             [
              0.5555555555555556,
              "#d8576b"
             ],
             [
              0.6666666666666666,
              "#ed7953"
             ],
             [
              0.7777777777777778,
              "#fb9f3a"
             ],
             [
              0.8888888888888888,
              "#fdca26"
             ],
             [
              1,
              "#f0f921"
             ]
            ],
            "type": "histogram2d"
           }
          ],
          "histogram2dcontour": [
           {
            "colorbar": {
             "outlinewidth": 0,
             "ticks": ""
            },
            "colorscale": [
             [
              0,
              "#0d0887"
             ],
             [
              0.1111111111111111,
              "#46039f"
             ],
             [
              0.2222222222222222,
              "#7201a8"
             ],
             [
              0.3333333333333333,
              "#9c179e"
             ],
             [
              0.4444444444444444,
              "#bd3786"
             ],
             [
              0.5555555555555556,
              "#d8576b"
             ],
             [
              0.6666666666666666,
              "#ed7953"
             ],
             [
              0.7777777777777778,
              "#fb9f3a"
             ],
             [
              0.8888888888888888,
              "#fdca26"
             ],
             [
              1,
              "#f0f921"
             ]
            ],
            "type": "histogram2dcontour"
           }
          ],
          "mesh3d": [
           {
            "colorbar": {
             "outlinewidth": 0,
             "ticks": ""
            },
            "type": "mesh3d"
           }
          ],
          "parcoords": [
           {
            "line": {
             "colorbar": {
              "outlinewidth": 0,
              "ticks": ""
             }
            },
            "type": "parcoords"
           }
          ],
          "pie": [
           {
            "automargin": true,
            "type": "pie"
           }
          ],
          "scatter": [
           {
            "marker": {
             "colorbar": {
              "outlinewidth": 0,
              "ticks": ""
             }
            },
            "type": "scatter"
           }
          ],
          "scatter3d": [
           {
            "line": {
             "colorbar": {
              "outlinewidth": 0,
              "ticks": ""
             }
            },
            "marker": {
             "colorbar": {
              "outlinewidth": 0,
              "ticks": ""
             }
            },
            "type": "scatter3d"
           }
          ],
          "scattercarpet": [
           {
            "marker": {
             "colorbar": {
              "outlinewidth": 0,
              "ticks": ""
             }
            },
            "type": "scattercarpet"
           }
          ],
          "scattergeo": [
           {
            "marker": {
             "colorbar": {
              "outlinewidth": 0,
              "ticks": ""
             }
            },
            "type": "scattergeo"
           }
          ],
          "scattergl": [
           {
            "marker": {
             "colorbar": {
              "outlinewidth": 0,
              "ticks": ""
             }
            },
            "type": "scattergl"
           }
          ],
          "scattermapbox": [
           {
            "marker": {
             "colorbar": {
              "outlinewidth": 0,
              "ticks": ""
             }
            },
            "type": "scattermapbox"
           }
          ],
          "scatterpolar": [
           {
            "marker": {
             "colorbar": {
              "outlinewidth": 0,
              "ticks": ""
             }
            },
            "type": "scatterpolar"
           }
          ],
          "scatterpolargl": [
           {
            "marker": {
             "colorbar": {
              "outlinewidth": 0,
              "ticks": ""
             }
            },
            "type": "scatterpolargl"
           }
          ],
          "scatterternary": [
           {
            "marker": {
             "colorbar": {
              "outlinewidth": 0,
              "ticks": ""
             }
            },
            "type": "scatterternary"
           }
          ],
          "surface": [
           {
            "colorbar": {
             "outlinewidth": 0,
             "ticks": ""
            },
            "colorscale": [
             [
              0,
              "#0d0887"
             ],
             [
              0.1111111111111111,
              "#46039f"
             ],
             [
              0.2222222222222222,
              "#7201a8"
             ],
             [
              0.3333333333333333,
              "#9c179e"
             ],
             [
              0.4444444444444444,
              "#bd3786"
             ],
             [
              0.5555555555555556,
              "#d8576b"
             ],
             [
              0.6666666666666666,
              "#ed7953"
             ],
             [
              0.7777777777777778,
              "#fb9f3a"
             ],
             [
              0.8888888888888888,
              "#fdca26"
             ],
             [
              1,
              "#f0f921"
             ]
            ],
            "type": "surface"
           }
          ],
          "table": [
           {
            "cells": {
             "fill": {
              "color": "#EBF0F8"
             },
             "line": {
              "color": "white"
             }
            },
            "header": {
             "fill": {
              "color": "#C8D4E3"
             },
             "line": {
              "color": "white"
             }
            },
            "type": "table"
           }
          ]
         },
         "layout": {
          "annotationdefaults": {
           "arrowcolor": "#2a3f5f",
           "arrowhead": 0,
           "arrowwidth": 1
          },
          "autotypenumbers": "strict",
          "coloraxis": {
           "colorbar": {
            "outlinewidth": 0,
            "ticks": ""
           }
          },
          "colorscale": {
           "diverging": [
            [
             0,
             "#8e0152"
            ],
            [
             0.1,
             "#c51b7d"
            ],
            [
             0.2,
             "#de77ae"
            ],
            [
             0.3,
             "#f1b6da"
            ],
            [
             0.4,
             "#fde0ef"
            ],
            [
             0.5,
             "#f7f7f7"
            ],
            [
             0.6,
             "#e6f5d0"
            ],
            [
             0.7,
             "#b8e186"
            ],
            [
             0.8,
             "#7fbc41"
            ],
            [
             0.9,
             "#4d9221"
            ],
            [
             1,
             "#276419"
            ]
           ],
           "sequential": [
            [
             0,
             "#0d0887"
            ],
            [
             0.1111111111111111,
             "#46039f"
            ],
            [
             0.2222222222222222,
             "#7201a8"
            ],
            [
             0.3333333333333333,
             "#9c179e"
            ],
            [
             0.4444444444444444,
             "#bd3786"
            ],
            [
             0.5555555555555556,
             "#d8576b"
            ],
            [
             0.6666666666666666,
             "#ed7953"
            ],
            [
             0.7777777777777778,
             "#fb9f3a"
            ],
            [
             0.8888888888888888,
             "#fdca26"
            ],
            [
             1,
             "#f0f921"
            ]
           ],
           "sequentialminus": [
            [
             0,
             "#0d0887"
            ],
            [
             0.1111111111111111,
             "#46039f"
            ],
            [
             0.2222222222222222,
             "#7201a8"
            ],
            [
             0.3333333333333333,
             "#9c179e"
            ],
            [
             0.4444444444444444,
             "#bd3786"
            ],
            [
             0.5555555555555556,
             "#d8576b"
            ],
            [
             0.6666666666666666,
             "#ed7953"
            ],
            [
             0.7777777777777778,
             "#fb9f3a"
            ],
            [
             0.8888888888888888,
             "#fdca26"
            ],
            [
             1,
             "#f0f921"
            ]
           ]
          },
          "colorway": [
           "#636efa",
           "#EF553B",
           "#00cc96",
           "#ab63fa",
           "#FFA15A",
           "#19d3f3",
           "#FF6692",
           "#B6E880",
           "#FF97FF",
           "#FECB52"
          ],
          "font": {
           "color": "#2a3f5f"
          },
          "geo": {
           "bgcolor": "white",
           "lakecolor": "white",
           "landcolor": "#E5ECF6",
           "showlakes": true,
           "showland": true,
           "subunitcolor": "white"
          },
          "hoverlabel": {
           "align": "left"
          },
          "hovermode": "closest",
          "mapbox": {
           "style": "light"
          },
          "paper_bgcolor": "white",
          "plot_bgcolor": "#E5ECF6",
          "polar": {
           "angularaxis": {
            "gridcolor": "white",
            "linecolor": "white",
            "ticks": ""
           },
           "bgcolor": "#E5ECF6",
           "radialaxis": {
            "gridcolor": "white",
            "linecolor": "white",
            "ticks": ""
           }
          },
          "scene": {
           "xaxis": {
            "backgroundcolor": "#E5ECF6",
            "gridcolor": "white",
            "gridwidth": 2,
            "linecolor": "white",
            "showbackground": true,
            "ticks": "",
            "zerolinecolor": "white"
           },
           "yaxis": {
            "backgroundcolor": "#E5ECF6",
            "gridcolor": "white",
            "gridwidth": 2,
            "linecolor": "white",
            "showbackground": true,
            "ticks": "",
            "zerolinecolor": "white"
           },
           "zaxis": {
            "backgroundcolor": "#E5ECF6",
            "gridcolor": "white",
            "gridwidth": 2,
            "linecolor": "white",
            "showbackground": true,
            "ticks": "",
            "zerolinecolor": "white"
           }
          },
          "shapedefaults": {
           "line": {
            "color": "#2a3f5f"
           }
          },
          "ternary": {
           "aaxis": {
            "gridcolor": "white",
            "linecolor": "white",
            "ticks": ""
           },
           "baxis": {
            "gridcolor": "white",
            "linecolor": "white",
            "ticks": ""
           },
           "bgcolor": "#E5ECF6",
           "caxis": {
            "gridcolor": "white",
            "linecolor": "white",
            "ticks": ""
           }
          },
          "title": {
           "x": 0.05
          },
          "xaxis": {
           "automargin": true,
           "gridcolor": "white",
           "linecolor": "white",
           "ticks": "",
           "title": {
            "standoff": 15
           },
           "zerolinecolor": "white",
           "zerolinewidth": 2
          },
          "yaxis": {
           "automargin": true,
           "gridcolor": "white",
           "linecolor": "white",
           "ticks": "",
           "title": {
            "standoff": 15
           },
           "zerolinecolor": "white",
           "zerolinewidth": 2
          }
         }
        }
       }
      },
      "text/html": [
       "<div>                            <div id=\"b263f606-3d81-4d09-83ef-9cbdcb225b67\" class=\"plotly-graph-div\" style=\"height:525px; width:100%;\"></div>            <script type=\"text/javascript\">                require([\"plotly\"], function(Plotly) {                    window.PLOTLYENV=window.PLOTLYENV || {};                                    if (document.getElementById(\"b263f606-3d81-4d09-83ef-9cbdcb225b67\")) {                    Plotly.newPlot(                        \"b263f606-3d81-4d09-83ef-9cbdcb225b67\",                        [{\"hovertemplate\":\"<b>%{hovertext}</b><br><br>avg_rating=%{marker.color}<br>latitude=%{lat}<br>longitude=%{lon}<extra></extra>\",\"hovertext\":[\"BERYL FORD P.S.\",\"XYNA INTERNATIONAL HIGH SCHOOL\",\"LOTE TREE FOUNDATION\",\"LEARNING GENIUS ACADEMY INC\",\"KHALSA COMMUNITY SCHOOL\",\"OUR LADY OF LOURDES CATHOLIC E.S.\",\"ALGOMA UNIVERSITY\",\"MAKKI ISLAMIC LEARNING CENTRE\",\"ST. PATRICK SEPARATE E.S.\",\"HOLY NAME OF MARY CATHOLIC S.S.\",\"LARKSPUR P.S.\",\"ST. FRANCIS XAVIER E.S.\",\"ST. URSULA E.S.\",\"ST. MARGUERITE D'YOUVILLE S.S.\",\"PARKHOLME SCHOOL\",\"FLETCHER'S MEADOW S.S.\",\"ROBERT H. LAGERQUIST SR.P.S.\",\"ESKER LAKE P.S.\",\"FOLKSTONE P.S.\",\"ST. AGNES E.S.\",\"ST. KEVIN SEPARATE E.S.\",\"ST. JOHN BOSCO E.S.\",\"HILLDALE P.S.\",\"DORSET DRIVE P.S.\",\"SPRINGDALE P.S.\",\"NORTH PARK S.S.\",\"SHAW P.S.\",\"CARDINAL AMBROZIC CATHOLIC S.S.\",\"ST. CECILIA E.S.\",\"APPLEWOOD MONTESSORI ACADEMY & DAYCARE\",\"JOHN KNOX CHRISTIAN SCHOOL\",\"ST. BRIGID E.S.\",\"RED WILLOW P.S.\",\"ST. JOSEPH BRAMPTON E.S.\",\"TURNER FENTON S.S.\",\"SHERIDAN COLLEGE DAVIS CAMPUS\",\"ADULT EDUCATION CENTRE BRAMPTON CAMPUS\",\"ROYAL ORCHARD M.S.\",\"ECOLE SECONDAIRE JEUNES SANS FRONTIERES\",\"WALI UL ASR SCHOOL - GTA WEST CAMPUS\",\"CARDINAL LEGER S.S.\",\"WORTHINGTON P.S.\",\"EASTBOURNE DRIVE P.S.\",\"NORTHWOOD P.S.\",\"CARDINAL NEWMAN CATHOLIC E.S.\",\"ST. MARY E.S.\",\"MOUNT ROYAL P.S.\",\"QUEEN STREET P.S.\",\"HICKORY WOOD P.S.\",\"SIR WILLIAM GAGE M.S.\",\"FATHER C.W. SULLIVAN E.S.\",\"GUARDIAN ANGELS E.S.\",\"EDENBROOK HILL P.S.\",\"ST. MONICA E.S.\",\"ALOMA CRESCENT P.S.\",\"PAULINE VANIER CATHOLIC E.S.\",\"ST. MARGUERITE BOURGEOYS SEPARATE E.S.\",\"FATHER FRANCIS MCSPIRITT CATHOLIC E.S.\",\"CARBERRY P.S.\",\"BIRCHBANK P.S.\",\"FALLINGDALE P.S.\",\"BRAMALEA S.S.\",\"SOMERSET DRIVE P.S.\",\"EARNSCLIFFE SR.P.S.\",\"COPELAND P.S.\",\"WILLIAM G. DAVIS SR.P.S.\",\"MADOC DRIVE P.S.\",\"JEFFERSON P.S.\",\"LOUGHEED M.S.\",\"BLESSSED MICHAEL J. MCGIVNEY CATHOLIC E.S.\",\"DOON SCHOOL\",\"NOON ACADEMY\",\"LESTER B. PEARSON CATHOLIC E.S.\",\"ST. JEAN BREBEUF E.S.\",\"GREENBRIAR M.S.\",\"GRENOBLE P.S.\",\"CHURCHVILLE P.S.\",\"MONTESSORI LEADERS SCHOOL\",\"KMSCHOOL\",\"PREMIUM INSTITUTE OF EXCELLENCE\",\"SONGBIRDS MONTESSORI SCHOOL\",\"AGNES TAYLOR P.S.\",\"MCCLURE P.S.\",\"COUNTRYSIDE VILLAGE P.S.\",\"DOLSON P.S.\",\"AL-AMEEN ELEMENTARY SCHOOL\",\"CAREER QUEST- BRAMPTON\",\"GOBIND SARVAR BRAMPTON\",\"GREEN APPLE ALTERNATIVE SCHOOL\",\"KNOX BRIDGE SCHOOL\",\"NORTHVIEW COLLEGIATE\",\"NUCLEUS HIGH SCHOOL\",\"SPRINGBROOK P.S.\",\"AYLESBURY P.S.\",\"CASTLE OAKS P.S.\",\"NELSON MENDELA P.S.\",\"ROSS DRIVE P.S.\",\"JEAN AUGUSTINE S.S.\",\"ST. ALPHONSA CATHOLIC E.S\",\"WHALEY'S CORNERS P.S.\",\"TRIBUNE DRIVE P.S.\",\"CENTENNIAL SR.P.S.\",\"ST. JOACHIM E.S.\",\"ST. JOSEPHINE BAKHITA CATHOLIC E.S.\",\"HAROLD M. BRATHWAITE S.S.\",\"EAGLE PLAINS P.S.\",\"OUR LADY OF FATIMA E.S.\",\"HAROLD F. LOUGHIN P.S.\",\"ECOLE ELEMENTAIRE CARREFOUR DES JEUNES\",\"BRISDALE P.S.\",\"LOUISE ARBOUR S.S.\",\"CHINGUACOUSY S.S.\",\"THORNDALE P.S.\",\"JUDITH NYMAN S.S.\",\"WILLIAMS PARKWAY SR.P.S.\",\"ST. ANNE E.S.\",\"ST. MARIA GORETTI E.S.\",\"ST. JEAN-MARIE VIANNEY CATHOLIC E.S.\",\"INNOCENT HEARTS SECONDARY SCHOOL\",\"ST. ANDRE BESSETTE CATHOLIC E.S.\",\"LORENVILLE P.S.\",\"WALNUT GROVE P.S.\",\"ELDORADO P.S.\",\"SIR ISAAC BROCK P.S.\",\"CASTLEMORE P.S.\",\"HOMESTEAD P.S.\",\"MOUNT PLEASANT VILLAGE P.S.\",\"DAVID SUZUKI S.S.\",\"SIR WILFRID LAURIER P.S.\",\"GLENDALE P.S.\",\"ST. BONAVENTURE CATHOLIC E.S.\",\"OUR LADY OF PROVIDENCE E.S.\",\"ST. AIDAN CATHOLIC E.S.\",\"ST. JOHN FISHER E.S.\",\"BISHOP FRANCIS ALLEN E.S.\",\"CENTRAL PEEL S.S.\",\"PEEL ALTERNATIVE SCHOOL NORTH\",\"MCHUGH P.S.\",\"ST. ISAAC JOGUES E.S.\",\"CONESTOGA P.S.\",\"ST. RITA E.S.\",\"ROBERTA BONDAR P.S.\",\"SUNNY VIEW M.S.\",\"ROWNTREE MONTESSORI SCHOOLS\",\"QUEENSWOOD HIGH SCHOOL\",\"HEART LAKE S.S.\",\"STANLEY MILLS P.S.\",\"GREAT LAKES P.S.\",\"MOUNTAIN ASH P.S.\",\"GOOD SHEPHERD E.S.\",\"RAY LAWSON P.S.\",\"INGLEBOROUGH P.S.\",\"FAIRLAWN P.S.\",\"CASTLEBROOKE S.S.\",\"KINDERKOLLEGE ELEMENTARY SCHOOL\",\"GEORGES VANIER CATHOLIC E.S.\",\"FERNFOREST P.S.\",\"ST. EDMUND CAMPION S.S.\",\"ST. AUGUSTINE S.S.\",\"SANDALWOOD HEIGHTS S.S.\",\"RUSSELL D. BARBER P.S.\",\"ROWNTREE P.S.\",\"BRAMPTON CENTENNIAL S.S.\",\"SIR JOHN A. MACDONALD SR.P.S.\",\"FATHER CLAIR TIPPING E.S.\",\"ECOLE ELEMENTAIRE CATHOLIQUE SAINTE-JEANNE-D'ARC\",\"ST. LUCY CATHOLIC E.S.\",\"ST. THOMAS AQUINAS S.S.\",\"RIDGEVIEW P.S.\",\"HOLY SPIRIT E.S.\",\"SACRED HEART E.S.\",\"GOLDCREST P.S.\",\"PARKWAY P.S.\",\"CHEYNE M.S.\",\"KINGSWOOD DRIVE P.S.\",\"HEWSON P.S.\",\"BALMORAL DRIVE SR.P.S.\",\"HUTTONVILLE P.S.\",\"CANADA CHRISTIAN ACADEMY\",\"HANOVER P.S.\",\"BEATTY-FLEMING SR.P.S.\",\"CLARK BOULEVARD P.S.\",\"ST. ROCH CATHOLIC S.S.\",\"MORTON WAY P.S.\",\"WESTERVELTS CORNERS P.S.\",\"NOTRE DAME S.S.\",\"ST. LEONARD E.S.\",\"GORDON GRAYDON SR.P.S.\",\"ST. STEPHEN E.S.\",\"ROBERT J. LEE P.S.\",\"CALDERSTONE M.S.\",\"CHERRYTREE P.S.\",\"OUR LADY OF PEACE SEPARATE E.S.\",\"TREELINE P.S.\",\"ARNOTT CHARLTON P.S.\",\"JAMES POTTER P.S.\",\"CLAIREVILLE P.S.\",\"ST. ANTHONY E.S.\",\"TERRY FOX P.S.\",\"MASSEY STREET P.S.\",\"FLETCHER'S CREEK SR.P.S.\",\"HELEN WILSON P.S.\",\"SIR WINSTON CHURCHILL P.S.\",\"TALL PINES SCHOOL\",\"BURNT ELM P.S.\",\"MCCRIMMON M.S.\",\"ST. ANGELA MERICI CATHOLIC E.S.\",\"HIGH FIVE ACADEMY FOR LEARNING\",\"ONTARIO E-SECONDARY SCHOOL\",\"SHILOH CHRISTIAN INSTITUTE\",\"SIR FREDERICK BANTING INTERNATIONAL SCHOOL\",\"THE EDUCATORS ACADEMY\",\"ST. DANIEL COMBONI CATHOLIC E.S.\",\"ISP PREP  MIDDLE-SECONDARY SCHOOL OF MEDICINE\",\"SCHOLARS ACADEMY\",\"UMMATI LEARNING CENTER\",\"AIMS PLUS HIGH SCHOOL\",\"ST. JACINTA MARTO CATHOLIC E.S.\",\"ACE SCHOLARS ACADEMY\",\"CITEM SECONDARY SCHOOL\",\"QUEENS GATE ACADEMY\",\"XPERT PRIVATE HIGH SCHOOL\",\"MY FIRST MONTESSORI SCHOOL\",\"CANSTEM EDUCATION PRIVATE SCHOOL\",\"EDUSMILE ONTARIO HIGH SCHOOL\",\"ELITE PRIVATE SCHOOL DE ONTARIO\",\"EXCEL YOUR EDUCATION ACADEMY\",\"MY LEARNING OASIS\",\"POLKADOTS PLAYLAND & MONTESSORI CENTRE\",\"QUARK WEST SCHOOL\",\"BONI MONTESSORI\",\"BRAMPTON COLLEGE OF HEALTH,BUSINESS & TECHNOLOGY\"],\"lat\":[43.79068314403572,43.704100751329655,43.73756997275267,43.7724365871091,43.73064312568253,43.791187914496135,43.68674645191526,43.72160508207985,43.81759598213886,43.733826645634224,43.754362805498,43.67480872478028,43.68904980808456,43.75218137786684,43.69987362600318,43.700148727385546,43.73246119906303,43.732651786186736,43.73010034129091,43.72484535950671,43.66085634930161,43.74221958077233,43.72917532221148,43.71607823127736,43.75371031331438,43.72046587731897,43.77525153767049,43.788158334508026,43.70459684944006,43.692416700208426,43.6721521314935,43.658402962489625,43.77343888802023,43.67686719191651,43.67497273684452,43.65632779823436,43.65897208798911,43.69458884180282,43.62442378658498,43.66736256483771,43.68421260251981,43.68445911831472,43.72186843928552,43.674928383494205,43.721858538727815,43.683881265406846,43.79020945126551,43.670587414353975,43.64631409298463,43.67189389128205,43.706237007824726,43.68655335660964,43.69563755940685,43.665047957852195,43.708135606522426,43.646715489830555,43.727704423944374,43.77465448016147,43.75626880297041,43.7029919549219,43.7230033328912,43.715603242824,43.72901300233184,43.72313121207122,43.65019483286672,43.6709420065215,43.70334216391991,43.738275331805184,43.75682719919191,43.75274815801371,43.71806129126119,43.70109416316719,43.72299867859516,43.73420818100133,43.73629761388042,43.73817474651973,43.656387424440915,43.69261990988254,43.76483580492221,43.77207222120782,43.71497528472152,43.69801303276223,43.6712736180194,43.758854985720866,43.69506469322119,43.694986556689294,43.66018140129786,43.74535127438119,43.683852634214304,43.749370126599835,43.7571872915548,43.751072580384516,43.66606758006128,43.6780196913211,43.79474013859646,43.691391128351114,43.75098485407078,43.66730748022988,43.63520574561593,43.6309345613644,43.69065479694153,43.67305497592021,43.713254174541724,43.72094509949446,43.739655132677896,43.77350748045506,43.68829412981191,43.70855129564442,43.70701766693054,43.69839387811732,43.75989365431498,43.73720222353734,43.7820079885907,43.73243363514601,43.73074015261249,43.69962493051564,43.696449924215095,43.66964851925187,43.75917005558788,43.76548435589802,43.663366155640034,43.77958295859838,43.63472949665309,43.795380682556825,43.78964807115629,43.688361249828404,43.67718517882054,43.66834289417654,43.677308269098226,43.68742357034505,43.68720744809208,43.7440889019776,43.69640166615104,43.71124161747876,43.666167034753485,43.698635637310836,43.679047887349974,43.67973942484372,43.73582223413994,43.71522887408057,43.73695807494512,43.64078175904644,43.76149309159992,43.70949634989565,43.757164631275906,43.71663679330462,43.76054035767041,43.736671530765626,43.771931992160894,43.75626348006027,43.64229390353943,43.65965830420301,43.76806913879086,43.78477598490781,43.71837966769822,43.72751853108832,43.746453812759114,43.69471448083068,43.65811317732141,43.765927054158794,43.723503137730404,43.706616741760044,43.66658239502554,43.699502970418024,43.764847619634814,43.71069630235018,43.70815602613938,43.73905550727414,43.67251481398531,43.78460900087074,43.733371067012946,43.7298505068889,43.67672093512303,43.70547669630122,43.70250573728518,43.766295327642176,43.70844070404476,43.64168229885805,43.68007824878443,43.71892269015601,43.678786309990066,43.7147772309155,43.672934732227226,43.656285825146405,43.704324688472965,43.719572135238366,43.72338444248172,43.70800852192536,43.728243048805695,43.76389543459419,43.77202812259766,43.65408413610953,43.67407835406573,43.778321502454084,43.715049490970955,43.67289095682454,43.771463844573816,43.73630731388776,43.73142202381474,43.73819976215871,43.65835600028965,43.681390255487116,43.68901034964805,43.72516555280771,43.71848586591107,43.690458504533964,43.695593879208765,43.71272779932118,43.758810759869064,43.769166106040785,43.73925824879673,43.674918613914684,43.679598721066384,43.75117982224026,43.76813650183017,43.660160967119886,43.699593172336435,43.657036686346274,43.791202418949325,43.66325825391607,43.69959411591734,43.7876804154578,43.69726668165259,43.68157923508043,43.76470198169472,43.78679736391444,43.75761899601373,43.78679736391444,43.65997922185649,43.63266695522018,43.74944188353519,43.71197172335984],\"legendgroup\":\"\",\"lon\":[-79.66956789645043,-79.78645602644978,-79.76951250218512,-79.6622229730091,-79.7400005990377,-79.74694135636626,-79.75944885448412,-79.69049479966381,-79.72682667844975,-79.7164433933236,-79.74941413315844,-79.73828376328231,-79.79998607731335,-79.77654204013858,-79.8282620373232,-79.82867821573127,-79.79544299908544,-79.77734389441939,-79.70651995267202,-79.78075383970972,-79.73174103332211,-79.73303630521694,-79.72825440483734,-79.6989764042989,-79.76672725124065,-79.74841849106869,-79.75148413383529,-79.68331672913287,-79.78078235598369,-79.8179887323987,-79.76365605493122,-79.75973648647181,-79.70131121839847,-79.77880168816782,-79.719247071758,-79.73892050240651,-79.72632982475454,-79.78654294571079,-79.75813804156357,-79.71153771224625,-79.75164320555024,-79.81857694140972,-79.69621226144766,-79.77511175613881,-79.69982857209831,-79.7533155460054,-79.74852865788733,-79.77242614860117,-79.74290179249968,-79.774402090881,-79.74692950868821,-79.81943492588175,-79.80831746800276,-79.77217908782522,-79.7037223761725,-79.7344918902586,-79.75384781261573,-79.69824980928314,-79.77493268757812,-79.7058238748772,-79.7099196366774,-79.70750473234435,-79.80338039622892,-79.70453882597819,-79.76270786848943,-79.73258505180323,-79.74927291891237,-79.7303145667517,-79.7711569669581,-79.76829315717087,-79.74283390372874,-79.74013905449645,-79.72882003450486,-79.72468293789117,-79.7156646459542,-79.71740962429186,-79.7804997811038,-79.79153975293372,-79.67078012160984,-79.66210738823838,-79.8009990935955,-79.7580541396468,-79.79367654801081,-79.78237126439053,-79.85110262294376,-79.77297404032201,-79.7219911913703,-79.66772991845889,-79.8116850277172,-79.72797348073476,-79.762235706822,-79.73843044115603,-79.79482776652364,-79.83165535722715,-79.67098699267844,-79.81387979538465,-79.78443752538153,-79.82644331030424,-79.77170465286704,-79.78757199791244,-79.84021972976348,-79.74938329225701,-79.76708298384617,-79.8265702076812,-79.77045750418192,-79.74251841661138,-79.77785691198136,-79.74765641639063,-79.77214258955597,-79.83693985951354,-79.76684430923267,-79.72842468699291,-79.67007509257736,-79.73060042153944,-79.7331321040274,-79.76395822236171,-79.78892586473853,-79.8009202347374,-79.71626412835472,-79.67432392460472,-79.81016422163052,-79.69500712363296,-79.77987109384262,-79.6751874613153,-79.68801058910437,-79.79863750671058,-79.82397523195934,-79.7874774840871,-79.72702782499648,-79.77649564442463,-79.82919866512307,-79.76009955069257,-79.8373596093858,-79.71104886894099,-79.74707469073192,-79.75135899641417,-79.73214934584304,-79.75918330641194,-79.76969519442135,-79.78619386849873,-79.82471454577396,-79.75525656308187,-79.75554801206388,-79.7837338872138,-79.73688544970726,-79.78865286320215,-79.75818487574155,-79.76800583047174,-79.7445853522533,-79.74665342726412,-79.74582909333056,-79.80339875157448,-79.72594358490811,-79.67698812954933,-79.72022992042477,-79.71139070408391,-79.75762762455034,-79.83013078825144,-79.76486100462758,-79.74408524233516,-79.75101368562854,-79.81906457092117,-79.74839800335498,-79.76590115947444,-79.73169675341751,-79.73670994734984,-79.82115358994565,-79.7106269715713,-79.7566004647762,-79.72961554190988,-79.7986811490029,-79.72053523844049,-79.73881138405639,-79.81828253325142,-79.76604110546184,-79.7599260249018,-79.71241794078567,-79.80975247077286,-79.74161558436364,-79.7290426400333,-79.77852242922876,-79.71814353391244,-79.80660335389811,-79.75104040299675,-79.7803593468433,-79.77963670188439,-79.79068442900159,-79.75475536423716,-79.8157188321278,-79.7353017306321,-79.69240494089358,-79.72483284215157,-79.78510191023445,-79.73286327640044,-79.76760271246206,-79.81139762900395,-79.67093543122645,-79.74220620821424,-79.79273493322624,-79.74644387198468,-79.73040615604685,-79.74189496618888,-79.74879737651857,-79.69313643059688,-79.81831975728292,-79.82694063035022,-79.81058326128469,-79.82706936191688,-79.70170528563473,-79.66797955977133,-79.69399364175042,-79.80597155602523,-79.8411704020139,-79.73830461981444,-79.73065764514604,-79.72315999021878,-79.74622473260523,-79.79862596979724,-79.68970449363631,-79.72826484106177,-79.74366380071837,-79.7529465079887,-79.84879104696897,-79.71734302805298,-79.74864650085033,-79.73336402321864,-79.70086944333005,-79.73336402321864,-79.81317753129507,-79.78433368033008,-79.72810681461272,-79.67791048801988],\"marker\":{\"color\":[4.142857142857143,4.235294117647059,0.5,3.75,3.066666666666667,2.0,2.6,3.857142857142857,3.25,1.8,3.6,2.5,3.8,3.5555555555555554,2.75,2.6,2.8,3.5714285714285716,3.375,0.0,3.0,3.0,3.0,3.8461538461538463,3.7,3.6363636363636362,1.5,3.125,3.5,4.571428571428571,4.647058823529412,2.6666666666666665,3.769230769230769,3.75,3.933333333333333,2.8823529411764706,4.5,3.0588235294117645,2.5,2.75,3.4285714285714284,3.8823529411764706,3.2,3.1,3.3333333333333335,4.647058823529412,3.142857142857143,2.8181818181818183,3.6666666666666665,2.727272727272727,2.5,2.909090909090909,4.5,2.0,3.5714285714285716,3.3333333333333335,2.5,2.2857142857142856,2.875,2.5,3.7142857142857144,2.75,4.0,3.6153846153846154,3.875,2.6666666666666665,2.0,2.875,3.2142857142857144,3.5,4.647058823529412,4.647058823529412,3.4,2.3333333333333335,4.083333333333333,3.2,3.8125,4.2,4.181818181818182,4.705882352941177,4.4,3.1,0.8888888888888888,2.25,3.125,4.055555555555555,2.5,4.285714285714286,4.176470588235294,4.444444444444445,4.705882352941177,4.625,3.3,3.125,4.0,3.6923076923076925,3.5,2.066666666666667,3.3333333333333335,3.1,3.357142857142857,4.25,4.333333333333333,2.857142857142857,3.625,4.0,4.357142857142857,3.0,0.0,3.7857142857142856,4.0,3.2666666666666666,2.375,2.2,4.294117647058823,4.470588235294118,0.0,3.533333333333333,4.666666666666667,1.3333333333333333,2.8461538461538463,2.6,3.736842105263158,2.75,3.3,3.909090909090909,3.3529411764705883,3.533333333333333,3.4285714285714284,2.5,3.8,2.25,2.5,2.909090909090909,4.166666666666667,2.8181818181818183,2.75,0.5,2.6,2.5,4.25,3.1333333333333333,3.7058823529411766,4.647058823529412,0.0,2.411764705882353,2.6,3.375,3.0,2.9,3.75,2.2,3.5,2.142857142857143,4.0,3.0,3.2,4.25,3.625,3.0,4.285714285714286,4.533333333333333,3.3846153846153846,4.461538461538462,3.2857142857142856,3.75,3.2,2.1875,2.3,4.0,2.5,4.0,1.875,2.7857142857142856,3.5,4.4,3.1818181818181817,2.875,2.5,3.75,2.4285714285714284,2.0,4.3,4.083333333333333,3.909090909090909,2.75,3.9166666666666665,3.090909090909091,3.5,4.0,3.5555555555555554,3.2857142857142856,3.7142857142857144,4.444444444444445,2.7142857142857144,3.6363636363636362,3.5,4.0,3.75,2.5,2.8823529411764706,1.0,2.875,3.7142857142857144,2.111111111111111,2.4545454545454546,2.5,3.8125,4.357142857142857,0.0,3.3846153846153846,4.4375,3.0,4.0,4.1,4.166666666666667,4.684210526315789,0.0,2.0,3.3846153846153846,4.125,4.6875,4.166666666666667,4.666666666666667,4.7368421052631575,4.666666666666667,4.166666666666667,4.166666666666667,4.35,0.0,3.5833333333333335,3.75],\"coloraxis\":\"coloraxis\",\"size\":[4.142857142857143,4.235294117647059,0.5,3.75,3.066666666666667,2.0,2.6,3.857142857142857,3.25,1.8,3.6,2.5,3.8,3.5555555555555554,2.75,2.6,2.8,3.5714285714285716,3.375,0.0,3.0,3.0,3.0,3.8461538461538463,3.7,3.6363636363636362,1.5,3.125,3.5,4.571428571428571,4.647058823529412,2.6666666666666665,3.769230769230769,3.75,3.933333333333333,2.8823529411764706,4.5,3.0588235294117645,2.5,2.75,3.4285714285714284,3.8823529411764706,3.2,3.1,3.3333333333333335,4.647058823529412,3.142857142857143,2.8181818181818183,3.6666666666666665,2.727272727272727,2.5,2.909090909090909,4.5,2.0,3.5714285714285716,3.3333333333333335,2.5,2.2857142857142856,2.875,2.5,3.7142857142857144,2.75,4.0,3.6153846153846154,3.875,2.6666666666666665,2.0,2.875,3.2142857142857144,3.5,4.647058823529412,4.647058823529412,3.4,2.3333333333333335,4.083333333333333,3.2,3.8125,4.2,4.181818181818182,4.705882352941177,4.4,3.1,0.8888888888888888,2.25,3.125,4.055555555555555,2.5,4.285714285714286,4.176470588235294,4.444444444444445,4.705882352941177,4.625,3.3,3.125,4.0,3.6923076923076925,3.5,2.066666666666667,3.3333333333333335,3.1,3.357142857142857,4.25,4.333333333333333,2.857142857142857,3.625,4.0,4.357142857142857,3.0,0.0,3.7857142857142856,4.0,3.2666666666666666,2.375,2.2,4.294117647058823,4.470588235294118,0.0,3.533333333333333,4.666666666666667,1.3333333333333333,2.8461538461538463,2.6,3.736842105263158,2.75,3.3,3.909090909090909,3.3529411764705883,3.533333333333333,3.4285714285714284,2.5,3.8,2.25,2.5,2.909090909090909,4.166666666666667,2.8181818181818183,2.75,0.5,2.6,2.5,4.25,3.1333333333333333,3.7058823529411766,4.647058823529412,0.0,2.411764705882353,2.6,3.375,3.0,2.9,3.75,2.2,3.5,2.142857142857143,4.0,3.0,3.2,4.25,3.625,3.0,4.285714285714286,4.533333333333333,3.3846153846153846,4.461538461538462,3.2857142857142856,3.75,3.2,2.1875,2.3,4.0,2.5,4.0,1.875,2.7857142857142856,3.5,4.4,3.1818181818181817,2.875,2.5,3.75,2.4285714285714284,2.0,4.3,4.083333333333333,3.909090909090909,2.75,3.9166666666666665,3.090909090909091,3.5,4.0,3.5555555555555554,3.2857142857142856,3.7142857142857144,4.444444444444445,2.7142857142857144,3.6363636363636362,3.5,4.0,3.75,2.5,2.8823529411764706,1.0,2.875,3.7142857142857144,2.111111111111111,2.4545454545454546,2.5,3.8125,4.357142857142857,0.0,3.3846153846153846,4.4375,3.0,4.0,4.1,4.166666666666667,4.684210526315789,0.0,2.0,3.3846153846153846,4.125,4.6875,4.166666666666667,4.666666666666667,4.7368421052631575,4.666666666666667,4.166666666666667,4.166666666666667,4.35,0.0,3.5833333333333335,3.75],\"sizemode\":\"area\",\"sizeref\":0.011842105263157893},\"mode\":\"markers\",\"name\":\"\",\"showlegend\":false,\"subplot\":\"mapbox\",\"type\":\"scattermapbox\"}],                        {\"template\":{\"data\":{\"bar\":[{\"error_x\":{\"color\":\"#2a3f5f\"},\"error_y\":{\"color\":\"#2a3f5f\"},\"marker\":{\"line\":{\"color\":\"#E5ECF6\",\"width\":0.5},\"pattern\":{\"fillmode\":\"overlay\",\"size\":10,\"solidity\":0.2}},\"type\":\"bar\"}],\"barpolar\":[{\"marker\":{\"line\":{\"color\":\"#E5ECF6\",\"width\":0.5},\"pattern\":{\"fillmode\":\"overlay\",\"size\":10,\"solidity\":0.2}},\"type\":\"barpolar\"}],\"carpet\":[{\"aaxis\":{\"endlinecolor\":\"#2a3f5f\",\"gridcolor\":\"white\",\"linecolor\":\"white\",\"minorgridcolor\":\"white\",\"startlinecolor\":\"#2a3f5f\"},\"baxis\":{\"endlinecolor\":\"#2a3f5f\",\"gridcolor\":\"white\",\"linecolor\":\"white\",\"minorgridcolor\":\"white\",\"startlinecolor\":\"#2a3f5f\"},\"type\":\"carpet\"}],\"choropleth\":[{\"colorbar\":{\"outlinewidth\":0,\"ticks\":\"\"},\"type\":\"choropleth\"}],\"contour\":[{\"colorbar\":{\"outlinewidth\":0,\"ticks\":\"\"},\"colorscale\":[[0.0,\"#0d0887\"],[0.1111111111111111,\"#46039f\"],[0.2222222222222222,\"#7201a8\"],[0.3333333333333333,\"#9c179e\"],[0.4444444444444444,\"#bd3786\"],[0.5555555555555556,\"#d8576b\"],[0.6666666666666666,\"#ed7953\"],[0.7777777777777778,\"#fb9f3a\"],[0.8888888888888888,\"#fdca26\"],[1.0,\"#f0f921\"]],\"type\":\"contour\"}],\"contourcarpet\":[{\"colorbar\":{\"outlinewidth\":0,\"ticks\":\"\"},\"type\":\"contourcarpet\"}],\"heatmap\":[{\"colorbar\":{\"outlinewidth\":0,\"ticks\":\"\"},\"colorscale\":[[0.0,\"#0d0887\"],[0.1111111111111111,\"#46039f\"],[0.2222222222222222,\"#7201a8\"],[0.3333333333333333,\"#9c179e\"],[0.4444444444444444,\"#bd3786\"],[0.5555555555555556,\"#d8576b\"],[0.6666666666666666,\"#ed7953\"],[0.7777777777777778,\"#fb9f3a\"],[0.8888888888888888,\"#fdca26\"],[1.0,\"#f0f921\"]],\"type\":\"heatmap\"}],\"heatmapgl\":[{\"colorbar\":{\"outlinewidth\":0,\"ticks\":\"\"},\"colorscale\":[[0.0,\"#0d0887\"],[0.1111111111111111,\"#46039f\"],[0.2222222222222222,\"#7201a8\"],[0.3333333333333333,\"#9c179e\"],[0.4444444444444444,\"#bd3786\"],[0.5555555555555556,\"#d8576b\"],[0.6666666666666666,\"#ed7953\"],[0.7777777777777778,\"#fb9f3a\"],[0.8888888888888888,\"#fdca26\"],[1.0,\"#f0f921\"]],\"type\":\"heatmapgl\"}],\"histogram\":[{\"marker\":{\"pattern\":{\"fillmode\":\"overlay\",\"size\":10,\"solidity\":0.2}},\"type\":\"histogram\"}],\"histogram2d\":[{\"colorbar\":{\"outlinewidth\":0,\"ticks\":\"\"},\"colorscale\":[[0.0,\"#0d0887\"],[0.1111111111111111,\"#46039f\"],[0.2222222222222222,\"#7201a8\"],[0.3333333333333333,\"#9c179e\"],[0.4444444444444444,\"#bd3786\"],[0.5555555555555556,\"#d8576b\"],[0.6666666666666666,\"#ed7953\"],[0.7777777777777778,\"#fb9f3a\"],[0.8888888888888888,\"#fdca26\"],[1.0,\"#f0f921\"]],\"type\":\"histogram2d\"}],\"histogram2dcontour\":[{\"colorbar\":{\"outlinewidth\":0,\"ticks\":\"\"},\"colorscale\":[[0.0,\"#0d0887\"],[0.1111111111111111,\"#46039f\"],[0.2222222222222222,\"#7201a8\"],[0.3333333333333333,\"#9c179e\"],[0.4444444444444444,\"#bd3786\"],[0.5555555555555556,\"#d8576b\"],[0.6666666666666666,\"#ed7953\"],[0.7777777777777778,\"#fb9f3a\"],[0.8888888888888888,\"#fdca26\"],[1.0,\"#f0f921\"]],\"type\":\"histogram2dcontour\"}],\"mesh3d\":[{\"colorbar\":{\"outlinewidth\":0,\"ticks\":\"\"},\"type\":\"mesh3d\"}],\"parcoords\":[{\"line\":{\"colorbar\":{\"outlinewidth\":0,\"ticks\":\"\"}},\"type\":\"parcoords\"}],\"pie\":[{\"automargin\":true,\"type\":\"pie\"}],\"scatter\":[{\"marker\":{\"colorbar\":{\"outlinewidth\":0,\"ticks\":\"\"}},\"type\":\"scatter\"}],\"scatter3d\":[{\"line\":{\"colorbar\":{\"outlinewidth\":0,\"ticks\":\"\"}},\"marker\":{\"colorbar\":{\"outlinewidth\":0,\"ticks\":\"\"}},\"type\":\"scatter3d\"}],\"scattercarpet\":[{\"marker\":{\"colorbar\":{\"outlinewidth\":0,\"ticks\":\"\"}},\"type\":\"scattercarpet\"}],\"scattergeo\":[{\"marker\":{\"colorbar\":{\"outlinewidth\":0,\"ticks\":\"\"}},\"type\":\"scattergeo\"}],\"scattergl\":[{\"marker\":{\"colorbar\":{\"outlinewidth\":0,\"ticks\":\"\"}},\"type\":\"scattergl\"}],\"scattermapbox\":[{\"marker\":{\"colorbar\":{\"outlinewidth\":0,\"ticks\":\"\"}},\"type\":\"scattermapbox\"}],\"scatterpolar\":[{\"marker\":{\"colorbar\":{\"outlinewidth\":0,\"ticks\":\"\"}},\"type\":\"scatterpolar\"}],\"scatterpolargl\":[{\"marker\":{\"colorbar\":{\"outlinewidth\":0,\"ticks\":\"\"}},\"type\":\"scatterpolargl\"}],\"scatterternary\":[{\"marker\":{\"colorbar\":{\"outlinewidth\":0,\"ticks\":\"\"}},\"type\":\"scatterternary\"}],\"surface\":[{\"colorbar\":{\"outlinewidth\":0,\"ticks\":\"\"},\"colorscale\":[[0.0,\"#0d0887\"],[0.1111111111111111,\"#46039f\"],[0.2222222222222222,\"#7201a8\"],[0.3333333333333333,\"#9c179e\"],[0.4444444444444444,\"#bd3786\"],[0.5555555555555556,\"#d8576b\"],[0.6666666666666666,\"#ed7953\"],[0.7777777777777778,\"#fb9f3a\"],[0.8888888888888888,\"#fdca26\"],[1.0,\"#f0f921\"]],\"type\":\"surface\"}],\"table\":[{\"cells\":{\"fill\":{\"color\":\"#EBF0F8\"},\"line\":{\"color\":\"white\"}},\"header\":{\"fill\":{\"color\":\"#C8D4E3\"},\"line\":{\"color\":\"white\"}},\"type\":\"table\"}]},\"layout\":{\"annotationdefaults\":{\"arrowcolor\":\"#2a3f5f\",\"arrowhead\":0,\"arrowwidth\":1},\"autotypenumbers\":\"strict\",\"coloraxis\":{\"colorbar\":{\"outlinewidth\":0,\"ticks\":\"\"}},\"colorscale\":{\"diverging\":[[0,\"#8e0152\"],[0.1,\"#c51b7d\"],[0.2,\"#de77ae\"],[0.3,\"#f1b6da\"],[0.4,\"#fde0ef\"],[0.5,\"#f7f7f7\"],[0.6,\"#e6f5d0\"],[0.7,\"#b8e186\"],[0.8,\"#7fbc41\"],[0.9,\"#4d9221\"],[1,\"#276419\"]],\"sequential\":[[0.0,\"#0d0887\"],[0.1111111111111111,\"#46039f\"],[0.2222222222222222,\"#7201a8\"],[0.3333333333333333,\"#9c179e\"],[0.4444444444444444,\"#bd3786\"],[0.5555555555555556,\"#d8576b\"],[0.6666666666666666,\"#ed7953\"],[0.7777777777777778,\"#fb9f3a\"],[0.8888888888888888,\"#fdca26\"],[1.0,\"#f0f921\"]],\"sequentialminus\":[[0.0,\"#0d0887\"],[0.1111111111111111,\"#46039f\"],[0.2222222222222222,\"#7201a8\"],[0.3333333333333333,\"#9c179e\"],[0.4444444444444444,\"#bd3786\"],[0.5555555555555556,\"#d8576b\"],[0.6666666666666666,\"#ed7953\"],[0.7777777777777778,\"#fb9f3a\"],[0.8888888888888888,\"#fdca26\"],[1.0,\"#f0f921\"]]},\"colorway\":[\"#636efa\",\"#EF553B\",\"#00cc96\",\"#ab63fa\",\"#FFA15A\",\"#19d3f3\",\"#FF6692\",\"#B6E880\",\"#FF97FF\",\"#FECB52\"],\"font\":{\"color\":\"#2a3f5f\"},\"geo\":{\"bgcolor\":\"white\",\"lakecolor\":\"white\",\"landcolor\":\"#E5ECF6\",\"showlakes\":true,\"showland\":true,\"subunitcolor\":\"white\"},\"hoverlabel\":{\"align\":\"left\"},\"hovermode\":\"closest\",\"mapbox\":{\"style\":\"light\"},\"paper_bgcolor\":\"white\",\"plot_bgcolor\":\"#E5ECF6\",\"polar\":{\"angularaxis\":{\"gridcolor\":\"white\",\"linecolor\":\"white\",\"ticks\":\"\"},\"bgcolor\":\"#E5ECF6\",\"radialaxis\":{\"gridcolor\":\"white\",\"linecolor\":\"white\",\"ticks\":\"\"}},\"scene\":{\"xaxis\":{\"backgroundcolor\":\"#E5ECF6\",\"gridcolor\":\"white\",\"gridwidth\":2,\"linecolor\":\"white\",\"showbackground\":true,\"ticks\":\"\",\"zerolinecolor\":\"white\"},\"yaxis\":{\"backgroundcolor\":\"#E5ECF6\",\"gridcolor\":\"white\",\"gridwidth\":2,\"linecolor\":\"white\",\"showbackground\":true,\"ticks\":\"\",\"zerolinecolor\":\"white\"},\"zaxis\":{\"backgroundcolor\":\"#E5ECF6\",\"gridcolor\":\"white\",\"gridwidth\":2,\"linecolor\":\"white\",\"showbackground\":true,\"ticks\":\"\",\"zerolinecolor\":\"white\"}},\"shapedefaults\":{\"line\":{\"color\":\"#2a3f5f\"}},\"ternary\":{\"aaxis\":{\"gridcolor\":\"white\",\"linecolor\":\"white\",\"ticks\":\"\"},\"baxis\":{\"gridcolor\":\"white\",\"linecolor\":\"white\",\"ticks\":\"\"},\"bgcolor\":\"#E5ECF6\",\"caxis\":{\"gridcolor\":\"white\",\"linecolor\":\"white\",\"ticks\":\"\"}},\"title\":{\"x\":0.05},\"xaxis\":{\"automargin\":true,\"gridcolor\":\"white\",\"linecolor\":\"white\",\"ticks\":\"\",\"title\":{\"standoff\":15},\"zerolinecolor\":\"white\",\"zerolinewidth\":2},\"yaxis\":{\"automargin\":true,\"gridcolor\":\"white\",\"linecolor\":\"white\",\"ticks\":\"\",\"title\":{\"standoff\":15},\"zerolinecolor\":\"white\",\"zerolinewidth\":2}}},\"mapbox\":{\"domain\":{\"x\":[0.0,1.0],\"y\":[0.0,1.0]},\"center\":{\"lat\":43.71431021109621,\"lon\":-79.7549597892629},\"zoom\":8,\"style\":\"stamen-terrain\"},\"coloraxis\":{\"colorbar\":{\"title\":{\"text\":\"avg_rating\"}},\"colorscale\":[[0.0,\"#8B0000\"],[0.5,\"#FFFF00\"],[1.0,\"#006400\"]]},\"legend\":{\"tracegroupgap\":0,\"itemsizing\":\"constant\"},\"margin\":{\"t\":60}},                        {\"responsive\": true}                    ).then(function(){\n",
       "                            \n",
       "var gd = document.getElementById('b263f606-3d81-4d09-83ef-9cbdcb225b67');\n",
       "var x = new MutationObserver(function (mutations, observer) {{\n",
       "        var display = window.getComputedStyle(gd).display;\n",
       "        if (!display || display === 'none') {{\n",
       "            console.log([gd, 'removed!']);\n",
       "            Plotly.purge(gd);\n",
       "            observer.disconnect();\n",
       "        }}\n",
       "}});\n",
       "\n",
       "// Listen for the removal of the full notebook cells\n",
       "var notebookContainer = gd.closest('#notebook-container');\n",
       "if (notebookContainer) {{\n",
       "    x.observe(notebookContainer, {childList: true});\n",
       "}}\n",
       "\n",
       "// Listen for the clearing of the current output cell\n",
       "var outputEl = gd.closest('.output');\n",
       "if (outputEl) {{\n",
       "    x.observe(outputEl, {childList: true});\n",
       "}}\n",
       "\n",
       "                        })                };                });            </script>        </div>"
      ]
     },
     "metadata": {},
     "output_type": "display_data"
    }
   ],
   "source": []
  },
  {
   "cell_type": "code",
   "execution_count": null,
   "id": "986e19b0",
   "metadata": {},
   "outputs": [],
   "source": []
  }
 ],
 "metadata": {
  "kernelspec": {
   "display_name": "Python 3 (ipykernel)",
   "language": "python",
   "name": "python3"
  },
  "language_info": {
   "codemirror_mode": {
    "name": "ipython",
    "version": 3
   },
   "file_extension": ".py",
   "mimetype": "text/x-python",
   "name": "python",
   "nbconvert_exporter": "python",
   "pygments_lexer": "ipython3",
   "version": "3.9.12"
  }
 },
 "nbformat": 4,
 "nbformat_minor": 5
}
